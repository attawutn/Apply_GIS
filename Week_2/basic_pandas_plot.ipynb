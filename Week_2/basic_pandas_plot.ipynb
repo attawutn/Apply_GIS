{
  "nbformat": 4,
  "nbformat_minor": 0,
  "metadata": {
    "colab": {
      "name": "pandas workshop by True Digital Academy.ipynb",
      "provenance": []
    },
    "kernelspec": {
      "name": "python3",
      "display_name": "Python 3"
    }
  },
  "cells": [
    {
      "cell_type": "markdown",
      "metadata": {},
      "source": [
        "# 87651260 Applications of Geographic Information System"
      ]
    },
    {
      "cell_type": "markdown",
      "metadata": {},
      "source": [
        "# Basic Pandas & Plot\n",
        "## Reference : Basic Pandas for Data science โดย ดร.อรรถพล ธำรงรัตนฤทธิ์ ภาควิชาภาษาศาสตร์ คณะอักษรศาสตร์ จุฬาลงกรณ์มหาวิทยาลัย\n",
        "\n",
        "## Attawut Nardkulpat, Reseach Officer, Burapha University\n",
        "### attawut@buu.ac.th\n",
        "### 08/08/2020"
      ]
    },
    {
      "cell_type": "markdown",
      "metadata": {
        "id": "NWRZ8qugDeAl",
        "colab_type": "text"
      },
      "source": [
        "# Importing Data"
      ]
    },
    {
      "cell_type": "code",
      "metadata": {
        "id": "nUc8jxJsDfjm",
        "colab_type": "code",
        "colab": {}
      },
      "source": [
        "import pandas as pd"
      ],
      "execution_count": null,
      "outputs": []
    },
    {
      "cell_type": "code",
      "metadata": {
        "id": "0sdvHWMjF_Jd",
        "colab_type": "code",
        "colab": {}
      },
      "source": [
        "customer = pd.read_excel('spending.xlsx', sheet_name=0)"
      ],
      "execution_count": null,
      "outputs": []
    },
    {
      "cell_type": "code",
      "metadata": {
        "id": "v1dqRdY5FvFj",
        "colab_type": "code",
        "colab": {}
      },
      "source": [
        "spending = pd.read_excel('spending.xlsx', sheet_name=1)"
      ],
      "execution_count": null,
      "outputs": []
    },
    {
      "cell_type": "code",
      "metadata": {
        "id": "7HZ-CtPjSFPT",
        "colab_type": "code",
        "colab": {
          "base_uri": "https://localhost:8080/",
          "height": 284
        },
        "outputId": "c850cf40-7e81-416d-b235-9a1503bb4dbf"
      },
      "source": [
        "spending.head()"
      ],
      "execution_count": null,
      "outputs": []
    },
    {
      "cell_type": "code",
      "metadata": {
        "id": "z2BjI4o6SjXb",
        "colab_type": "code",
        "colab": {
          "base_uri": "https://localhost:8080/",
          "height": 166
        },
        "outputId": "c5551b3f-2ea1-48ee-ea39-61c1ff267a89"
      },
      "source": [
        "spending.sample(4)"
      ],
      "execution_count": null,
      "outputs": []
    },
    {
      "cell_type": "code",
      "metadata": {
        "id": "1NJyfg96S2bG",
        "colab_type": "code",
        "colab": {
          "base_uri": "https://localhost:8080/",
          "height": 195
        },
        "outputId": "8607d5f2-99ae-47ad-fa6d-91758c6971b4"
      },
      "source": [
        "customer.sample(5)"
      ],
      "execution_count": null,
      "outputs": []
    },
    {
      "cell_type": "code",
      "metadata": {
        "id": "_Rul-a9gTE58",
        "colab_type": "code",
        "colab": {
          "base_uri": "https://localhost:8080/",
          "height": 34
        },
        "outputId": "227be8d2-56d2-4819-ff91-08194c288743"
      },
      "source": [
        "spending.columns"
      ],
      "execution_count": null,
      "outputs": []
    },
    {
      "cell_type": "markdown",
      "metadata": {
        "id": "s4zf7ECkEJlu",
        "colab_type": "text"
      },
      "source": [
        "# Basic Analysis\n",
        "\n",
        "* Numerical value\n",
        "  * Mean, Median\n",
        "  * Stdev, range\n",
        "\n",
        "* Categorical value\n",
        "  * Distribution\n",
        "  * Majority\n",
        "\n"
      ]
    },
    {
      "cell_type": "code",
      "metadata": {
        "id": "mUtyKjQYD_CW",
        "colab_type": "code",
        "colab": {
          "base_uri": "https://localhost:8080/",
          "height": 34
        },
        "outputId": "648e79c6-264a-4d6a-9083-018fbb3ed075"
      },
      "source": [
        "spending.Spending.mean()"
      ],
      "execution_count": null,
      "outputs": []
    },
    {
      "cell_type": "code",
      "metadata": {
        "id": "4INH0EZKUIhM",
        "colab_type": "code",
        "colab": {
          "base_uri": "https://localhost:8080/",
          "height": 34
        },
        "outputId": "1ac575eb-6a8a-42e0-f52d-48dbe20ebd31"
      },
      "source": [
        "spending.Spending.median()"
      ],
      "execution_count": null,
      "outputs": []
    },
    {
      "cell_type": "code",
      "metadata": {
        "id": "8I5KMCtKUPUW",
        "colab_type": "code",
        "colab": {
          "base_uri": "https://localhost:8080/",
          "height": 168
        },
        "outputId": "72edb26f-4950-4f59-e1c9-4de1307426dc"
      },
      "source": [
        "spending['Spending'].describe()"
      ],
      "execution_count": null,
      "outputs": []
    },
    {
      "cell_type": "code",
      "metadata": {
        "id": "hk7MtraxUuwM",
        "colab_type": "code",
        "colab": {
          "base_uri": "https://localhost:8080/",
          "height": 101
        },
        "outputId": "38265328-322b-42a4-a3b0-404ddf39e2c6"
      },
      "source": [
        "spending['Card type'].describe()"
      ],
      "execution_count": null,
      "outputs": []
    },
    {
      "cell_type": "code",
      "metadata": {
        "id": "ylNjIv4HVepx",
        "colab_type": "code",
        "colab": {
          "base_uri": "https://localhost:8080/",
          "height": 101
        },
        "outputId": "95fc68f3-ee3f-49f5-f052-7bf9d2d2cf5b"
      },
      "source": [
        "spending['Card type'].value_counts()"
      ],
      "execution_count": null,
      "outputs": []
    },
    {
      "cell_type": "code",
      "metadata": {
        "id": "PN_T_FX9VuGn",
        "colab_type": "code",
        "colab": {
          "base_uri": "https://localhost:8080/",
          "height": 101
        },
        "outputId": "e040af47-ad20-4981-c62a-7c6c8eb9d702"
      },
      "source": [
        "spending['Card type'].value_counts(normalize=True)"
      ],
      "execution_count": null,
      "outputs": []
    },
    {
      "cell_type": "markdown",
      "metadata": {
        "id": "4jXiz0hMDgD2",
        "colab_type": "text"
      },
      "source": [
        "# Exploring Data\n",
        "\n",
        "* ตรวจสอบค่าของแต่ละ Column ด้วยสถิติ\n",
        "\n",
        "* แก้ไขค่าที่ไม่ถูกต้อง\n",
        "* กำจัด row ที่ไม่ต้องการออกไป\n",
        "  * Drop\n",
        "  * Filter with boolean masking\n",
        "* การสร้าง Column ใหม่\n",
        "  * Recoding numerical values"
      ]
    },
    {
      "cell_type": "code",
      "metadata": {
        "id": "CbIlvJIkWk4w",
        "colab_type": "code",
        "colab": {
          "base_uri": "https://localhost:8080/",
          "height": 218
        },
        "outputId": "774bac4b-9f33-4bcf-e7b0-878c8ff2d68e"
      },
      "source": [
        "spending['Card type'] == 'Daimond'"
      ],
      "execution_count": null,
      "outputs": []
    },
    {
      "cell_type": "code",
      "metadata": {
        "id": "hkgw4-XqEJ-r",
        "colab_type": "code",
        "colab": {
          "base_uri": "https://localhost:8080/",
          "height": 136
        },
        "outputId": "c4e28e3e-c7f1-4dfa-bebb-a8d54c04a54d"
      },
      "source": [
        "condition = spending['Card type'] == 'Daimond'\n",
        "spending[condition]"
      ],
      "execution_count": null,
      "outputs": []
    },
    {
      "cell_type": "code",
      "metadata": {
        "id": "4FwnxxGpXDMV",
        "colab_type": "code",
        "colab": {
          "base_uri": "https://localhost:8080/",
          "height": 84
        },
        "outputId": "b532d27f-727e-49e0-cd15-3dcf638dbca7"
      },
      "source": [
        "spending['Card type'].replace('Daimond', 'Diamond').value_counts()"
      ],
      "execution_count": null,
      "outputs": []
    },
    {
      "cell_type": "code",
      "metadata": {
        "id": "l9cjhtfoXZOW",
        "colab_type": "code",
        "colab": {}
      },
      "source": [
        "spending['Card type'] = spending['Card type'].replace('Daimond', 'Diamond')"
      ],
      "execution_count": null,
      "outputs": []
    },
    {
      "cell_type": "code",
      "metadata": {
        "id": "jPsqmxuOXuEP",
        "colab_type": "code",
        "colab": {}
      },
      "source": [
        "spending2 = spending.drop('Region', axis=1)"
      ],
      "execution_count": null,
      "outputs": []
    },
    {
      "cell_type": "code",
      "metadata": {
        "id": "EoMpwk2AYmwU",
        "colab_type": "code",
        "colab": {
          "base_uri": "https://localhost:8080/",
          "height": 195
        },
        "outputId": "99f0eef6-03fb-40bc-e651-b6cc866ec3b9"
      },
      "source": [
        "spending2.head()"
      ],
      "execution_count": null,
      "outputs": []
    },
    {
      "cell_type": "code",
      "metadata": {
        "id": "6IZu6o7aYQFQ",
        "colab_type": "code",
        "colab": {
          "base_uri": "https://localhost:8080/",
          "height": 195
        },
        "outputId": "76ebb6f7-e445-4f95-e2b0-4842c0fcddca"
      },
      "source": [
        "spending.head()"
      ],
      "execution_count": null,
      "outputs": []
    },
    {
      "cell_type": "code",
      "metadata": {
        "id": "n5E_kyuQYuZK",
        "colab_type": "code",
        "colab": {}
      },
      "source": [
        "spending.drop('Region', axis=1, inplace=True)"
      ],
      "execution_count": null,
      "outputs": []
    },
    {
      "cell_type": "code",
      "metadata": {
        "id": "krprEVDFY6G3",
        "colab_type": "code",
        "colab": {
          "base_uri": "https://localhost:8080/",
          "height": 195
        },
        "outputId": "9ede687a-bab7-4d2c-ae5b-3779740e63cd"
      },
      "source": [
        "spending.head()"
      ],
      "execution_count": null,
      "outputs": []
    },
    {
      "cell_type": "markdown",
      "metadata": {
        "id": "vPcpKWrYZLIk",
        "colab_type": "text"
      },
      "source": [
        "# Merging Dataframes"
      ]
    },
    {
      "cell_type": "code",
      "metadata": {
        "id": "hMKDR9tPZVZh",
        "colab_type": "code",
        "colab": {
          "base_uri": "https://localhost:8080/",
          "height": 195
        },
        "outputId": "f63dc30f-23a1-4def-8548-cd27eac7d524"
      },
      "source": [
        "customer.head()"
      ],
      "execution_count": null,
      "outputs": []
    },
    {
      "cell_type": "code",
      "metadata": {
        "id": "yfLTtIlxaAd1",
        "colab_type": "code",
        "colab": {
          "base_uri": "https://localhost:8080/",
          "height": 134
        },
        "outputId": "3c2e84e3-b097-4069-ebe4-05b594ec34e3"
      },
      "source": [
        "customer.Region.value_counts()"
      ],
      "execution_count": null,
      "outputs": []
    },
    {
      "cell_type": "code",
      "metadata": {
        "id": "S3dbR6AcaIIV",
        "colab_type": "code",
        "colab": {
          "base_uri": "https://localhost:8080/",
          "height": 168
        },
        "outputId": "7b555520-a09c-40b4-dde1-72da07ce32d3"
      },
      "source": [
        "customer.Age.describe()"
      ],
      "execution_count": null,
      "outputs": []
    },
    {
      "cell_type": "code",
      "metadata": {
        "id": "LYDPh625aX5R",
        "colab_type": "code",
        "colab": {}
      },
      "source": [
        "customer_spending = spending.merge(customer, on='Customer ID')"
      ],
      "execution_count": null,
      "outputs": []
    },
    {
      "cell_type": "code",
      "metadata": {
        "id": "JnhrjZIKbZ_4",
        "colab_type": "code",
        "colab": {
          "base_uri": "https://localhost:8080/",
          "height": 195
        },
        "outputId": "dc9633f5-32df-467f-ac11-7b0221320b27"
      },
      "source": [
        "customer_spending.head()"
      ],
      "execution_count": null,
      "outputs": []
    },
    {
      "cell_type": "code",
      "metadata": {
        "id": "U_UZjogebAeg",
        "colab_type": "code",
        "colab": {
          "base_uri": "https://localhost:8080/",
          "height": 363
        },
        "outputId": "02e86bd7-0e04-4099-8bbd-4427cd02e130"
      },
      "source": [
        "customer_spending.groupby(['Region', 'Card type']).mean()['Spending']"
      ],
      "execution_count": null,
      "outputs": []
    },
    {
      "cell_type": "code",
      "metadata": {
        "id": "oq3rIWRib8mB",
        "colab_type": "code",
        "colab": {
          "base_uri": "https://localhost:8080/",
          "height": 104
        },
        "outputId": "7a7d6ab4-28e9-46eb-97b4-a9df38d778db"
      },
      "source": [
        "customer_spending.groupby(['Card type']).mean()['Spending']"
      ],
      "execution_count": null,
      "outputs": []
    },
    {
      "cell_type": "markdown",
      "metadata": {
        "id": "fpfQYFkrFnp5",
        "colab_type": "text"
      },
      "source": [
        "# Basic plotting"
      ]
    },
    {
      "cell_type": "code",
      "metadata": {
        "id": "9XzanE3MGUAI",
        "colab_type": "code",
        "colab": {}
      },
      "source": [
        "from IPython.display import HTML\n",
        "\n",
        "import pandas as pd\n",
        "import numpy as np\n",
        "import seaborn as sns\n",
        "import matplotlib.pyplot as plt\n",
        "\n",
        "plt.style.use('ggplot')\n",
        "%matplotlib inline\n",
        "plt.rcParams['figure.figsize'] = (10, 8)\n",
        "plt.rcParams['font.size'] = 12"
      ],
      "execution_count": null,
      "outputs": []
    },
    {
      "cell_type": "code",
      "metadata": {
        "id": "qFFilGREEk8c",
        "colab_type": "code",
        "colab": {
          "base_uri": "https://localhost:8080/",
          "height": 486
        },
        "outputId": "e17a7c1d-d898-4ef1-9b72-dc6a018cb720"
      },
      "source": [
        "spending.Spending.plot(kind='hist');"
      ],
      "execution_count": null,
      "outputs": []
    },
    {
      "cell_type": "code",
      "metadata": {
        "id": "CC_3XsKrGGBr",
        "colab_type": "code",
        "colab": {
          "base_uri": "https://localhost:8080/",
          "height": 567
        },
        "outputId": "b62bc24f-02d8-44aa-ca60-c33b89906ce4"
      },
      "source": [
        "customer_spending.groupby(['Region']).mean()['Spending'].plot(kind='bar')"
      ],
      "execution_count": null,
      "outputs": []
    },
    {
      "cell_type": "code",
      "metadata": {
        "id": "yYYbsnPnc4bj",
        "colab_type": "code",
        "colab": {
          "base_uri": "https://localhost:8080/",
          "height": 567
        },
        "outputId": "fba5e034-be19-4270-a62a-15d9e2f62bd5"
      },
      "source": [
        "customer_spending.groupby(['Region']).mean()['Spending'].sort_values().plot(kind='bar')"
      ],
      "execution_count": null,
      "outputs": []
    }
  ]
}