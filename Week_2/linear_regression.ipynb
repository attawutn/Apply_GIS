{
  "nbformat": 4,
  "nbformat_minor": 0,
  "metadata": {
    "colab": {
      "name": "2.linear_regression.ipynb",
      "provenance": [],
      "collapsed_sections": []
    },
    "kernelspec": {
      "name": "python3",
      "display_name": "Python 3"
    },
    "accelerator": "GPU"
  },
  "cells": [
    {
      "cell_type": "code",
      "metadata": {
        "id": "DWQVJtT2uBSG",
        "colab_type": "code",
        "colab": {}
      },
      "source": [
        "import numpy as np\n",
        "import pandas as pd\n",
        "import seaborn as sns\n",
        "from pylab import rcParams\n",
        "import matplotlib.pyplot as plt\n",
        "import matplotlib.animation as animation\n",
        "from matplotlib import rc\n",
        "import unittest\n",
        "\n",
        "%matplotlib inline\n",
        "\n",
        "sns.set(style='whitegrid', palette='muted', font_scale=1.5)\n",
        "\n",
        "#rcParams['figure.figsize'] = 14, 8\n",
        "\n",
        "RANDOM_SEED = 42\n",
        "\n",
        "np.random.seed(RANDOM_SEED)\n",
        "\n",
        "def run_tests():\n",
        "  unittest.main(argv=[''], verbosity=1, exit=False)"
      ],
      "execution_count": null,
      "outputs": []
    },
    {
      "cell_type": "markdown",
      "metadata": {
        "id": "1W7kXJn1Sh8a",
        "colab_type": "text"
      },
      "source": [
        "# Load the data\n",
        "\n",
        "Data [House Prices: Advanced Regression Techniques](https://www.kaggle.com/c/house-prices-advanced-regression-techniques)"
      ]
    },
    {
      "cell_type": "code",
      "metadata": {
        "id": "P_jaLzJnqT_y",
        "colab_type": "code",
        "colab": {}
      },
      "source": [
        "df_train = pd.read_csv('house_prices_train.csv')\n",
        "df_train.head()"
      ],
      "execution_count": null,
      "outputs": []
    },
    {
      "cell_type": "markdown",
      "metadata": {
        "id": "X60KNF9RTyEu",
        "colab_type": "text"
      },
      "source": [
        "# Data exploration"
      ]
    },
    {
      "cell_type": "code",
      "metadata": {
        "id": "4YSv7SqUR6bd",
        "colab_type": "code",
        "colab": {
          "base_uri": "https://localhost:8080/",
          "height": 170
        },
        "outputId": "5cd3a6a1-f677-498c-ee99-82c48f3f76f6"
      },
      "source": [
        "df_train['SalePrice'].describe()"
      ],
      "execution_count": null,
      "outputs": []
    },
    {
      "cell_type": "code",
      "metadata": {
        "id": "I7ykRIwOVxBa",
        "colab_type": "code",
        "colab": {
          "base_uri": "https://localhost:8080/",
          "height": 557
        },
        "outputId": "59e2fb56-878b-4851-d478-8fefdc810a54"
      },
      "source": [
        "sns.distplot(df_train['SalePrice']);"
      ],
      "execution_count": null,
      "outputs": []
    },
    {
      "cell_type": "code",
      "metadata": {
        "id": "9A7RjShcV7qm",
        "colab_type": "code",
        "colab": {
          "base_uri": "https://localhost:8080/",
          "height": 548
        },
        "outputId": "5042bf9d-f1a5-4318-979a-0e3709c7236c",
        "tags": []
      },
      "source": [
        "var = 'GrLivArea'\n",
        "data = pd.concat([df_train['SalePrice'], df_train[var]], axis=1)\n",
        "data.plot.scatter(x=var, y='SalePrice', ylim=(0,800000), s=32);"
      ],
      "execution_count": null,
      "outputs": []
    },
    {
      "cell_type": "code",
      "metadata": {
        "id": "6XgD7MrdWAoJ",
        "colab_type": "code",
        "colab": {
          "base_uri": "https://localhost:8080/",
          "height": 548
        },
        "outputId": "7f9cb05a-1463-43c4-f66d-7e859d939a5a",
        "tags": []
      },
      "source": [
        "var = 'TotalBsmtSF'\n",
        "data = pd.concat([df_train['SalePrice'], df_train[var]], axis=1)\n",
        "data.plot.scatter(x=var, y='SalePrice', ylim=(0,800000));"
      ],
      "execution_count": null,
      "outputs": []
    },
    {
      "cell_type": "code",
      "metadata": {
        "id": "oOqgVkVrWIHB",
        "colab_type": "code",
        "colab": {
          "base_uri": "https://localhost:8080/",
          "height": 545
        },
        "outputId": "b58b9360-a305-4dc9-cafd-402b4fcaece6"
      },
      "source": [
        "var = 'OverallQual'\n",
        "data = pd.concat([df_train['SalePrice'], df_train[var]], axis=1)\n",
        "f, ax = plt.subplots(figsize=(14, 8))\n",
        "fig = sns.boxplot(x=var, y=\"SalePrice\", data=data)\n",
        "fig.axis(ymin=0, ymax=800000);"
      ],
      "execution_count": null,
      "outputs": []
    },
    {
      "cell_type": "code",
      "metadata": {
        "id": "K9oqWbmaWWjn",
        "colab_type": "code",
        "colab": {
          "base_uri": "https://localhost:8080/",
          "height": 634
        },
        "outputId": "73332dea-f384-4941-9637-4193632dddfa"
      },
      "source": [
        "corrmat = df_train.corr()\n",
        "f, ax = plt.subplots(figsize=(12, 9))\n",
        "sns.heatmap(corrmat, vmax=.8, square=True);"
      ],
      "execution_count": null,
      "outputs": []
    },
    {
      "cell_type": "code",
      "metadata": {
        "id": "jGetIp9sWtdo",
        "colab_type": "code",
        "colab": {
          "base_uri": "https://localhost:8080/",
          "height": 691
        },
        "outputId": "dd2bcbd5-2a95-4d74-baf8-f8006007a197"
      },
      "source": [
        "k = 9 #number of variables for heatmap\n",
        "cols = corrmat.nlargest(k, 'SalePrice')['SalePrice'].index\n",
        "f, ax = plt.subplots(figsize=(14, 10))\n",
        "sns.heatmap(df_train[cols].corr(), vmax=.8, square=True);"
      ],
      "execution_count": null,
      "outputs": []
    },
    {
      "cell_type": "code",
      "metadata": {
        "id": "-7RoixG1Y0YC",
        "colab_type": "code",
        "colab": {
          "base_uri": "https://localhost:8080/",
          "height": 1143
        },
        "outputId": "09ec694a-8f41-4335-9ea1-4b11f48935f4"
      },
      "source": [
        "cols = ['SalePrice', 'OverallQual', 'GrLivArea', 'GarageCars']\n",
        "sns.pairplot(df_train[cols], size = 4);"
      ],
      "execution_count": null,
      "outputs": []
    },
    {
      "cell_type": "markdown",
      "metadata": {
        "id": "O6nLbr0bZN6y",
        "colab_type": "text"
      },
      "source": [
        "## Do we have missing data?"
      ]
    },
    {
      "cell_type": "code",
      "metadata": {
        "id": "UPfBNvltZ7Cl",
        "colab_type": "code",
        "colab": {
          "base_uri": "https://localhost:8080/",
          "height": 669
        },
        "outputId": "ca542b72-5839-4daa-c4cd-2cb9764cbb0a"
      },
      "source": [
        "total = df_train.isnull().sum().sort_values(ascending=False)\n",
        "percent = (df_train.isnull().sum()/df_train.isnull().count()).sort_values(ascending=False)\n",
        "missing_data = pd.concat([total, percent], axis=1, keys=['Total', 'Percent'])\n",
        "missing_data.head(20)"
      ],
      "execution_count": null,
      "outputs": []
    },
    {
      "cell_type": "markdown",
      "metadata": {
        "id": "V1l9DsgTcJtI",
        "colab_type": "text"
      },
      "source": [
        "# Predicting the sale price\n",
        "\n",
        "## Preparing the data\n",
        "\n",
        "### Feature scaling\n",
        "\n",
        "We will do a little preprocessing to our data using the following formula (standardization):\n",
        "\n",
        "$$x'= \\frac{x - \\mu}{\\sigma}$$\n",
        "\n",
        "where $\\mu$ is the population mean and $\\sigma$ is the standard deviation.\n",
        "\n",
        "**Source: Andrew Ng**"
      ]
    },
    {
      "cell_type": "code",
      "metadata": {
        "id": "JmEcYWkaqYDg",
        "colab_type": "code",
        "colab": {}
      },
      "source": [
        "x = df_train['GrLivArea']\n",
        "y = df_train['SalePrice']\n",
        "\n",
        "x = (x - x.mean()) / x.std()\n",
        "x = np.c_[np.ones(x.shape[0]), x] "
      ],
      "execution_count": null,
      "outputs": []
    },
    {
      "cell_type": "code",
      "metadata": {
        "id": "Of3yF9vhEhLv",
        "colab_type": "code",
        "colab": {
          "base_uri": "https://localhost:8080/",
          "height": 34
        },
        "outputId": "2f0f72e0-0ddb-4287-a7a2-c8641c23a943"
      },
      "source": [
        "x.shape"
      ],
      "execution_count": null,
      "outputs": []
    },
    {
      "cell_type": "markdown",
      "metadata": {
        "id": "hSVrJbO2cNr1",
        "colab_type": "text"
      },
      "source": [
        "## Linear Regression\n",
        "\n",
        "![](https://i.ytimg.com/vi/zPG4NjIkCjc/maxresdefault.jpg)\n",
        "\n",
        "**Source: MyBookSucks**\n",
        "\n",
        "Linear regression models assume that the relationship between a dependent continuous variable $Y$ and one or more explanatory (independent) variables $X$ is linear (that is, a straight line). It’s used to predict values within a continuous range, (e.g. sales, price) rather than trying to classify them into categories (e.g. cat, dog). Linear regression models can be divided into two main types:\n",
        "\n",
        "### Simple Linear Regression\n",
        "\n",
        "Simple linear regression uses a traditional slope-intercept form, where $a$ and $b$ are the coefficients that we try to “learn” and produce the most accurate predictions. $X$ represents our input data and $Y$ is our prediction.\n",
        "\n",
        "$$Y = bX + a$$\n",
        "\n",
        "![](https://spss-tutorials.com/img/simple-linear-regression-equation-linear-relation.png)\n",
        "\n",
        "**Source: SPSS tutorials**\n",
        "\n",
        "### Multivariable Regression\n",
        "\n",
        "A more complex, multi-variable linear equation might look like this, where w represents the coefficients, or weights, our model will try to learn.\n",
        "\n",
        "$$ Y(x_1,x_2,x_3) = w_1 x_1 + w_2 x_2 + w_3 x_3 + w_0$$\n",
        "\n",
        "The variables $x_1, x_2, x_3$ represent the attributes, or distinct pieces of information, we have about each observation."
      ]
    },
    {
      "cell_type": "markdown",
      "metadata": {
        "id": "x9SjF0vba6kw",
        "colab_type": "text"
      },
      "source": [
        "## Loss function\n",
        "\n",
        "Given our Simple Linear Regression equation:\n",
        "\n",
        "$$Y = bX + a$$\n",
        "\n",
        "We can use the following cost function to find the coefficients:\n",
        "\n",
        "### Mean Squared Error (MSE) Cost Function\n",
        "\n",
        "The MSE is defined as:\n",
        "\n",
        "$$MSE = J(W) =  \\frac{1}{m} \\sum_{i=1}^{m} (y^{(i)} - h_w(x^{(i)}))^2$$\n",
        "\n",
        "where\n",
        "\n",
        "$$h_w(x) = g(w^Tx)$$\n",
        "\n",
        "The MSE measures how much the average model predictions vary from the correct values. The number is higher when the model is performing \"bad\" on the training set.\n",
        "\n",
        "The first derivative of MSE is given by:\n",
        "\n",
        "$$MSE' = J'(W) = \\frac{2}{m} \\sum_{i=1}^{m} (h_w(x^{(i)}) - y^{(i)})$$\n",
        "\n",
        "\n",
        "### One Half Mean Squared Error (OHMSE)\n",
        "\n",
        "We will apply a small modification to the MSE - multiply by $\\frac{1}{2}$ so when we take the derivative, the `2`s cancel out:\n",
        "\n",
        "$$ OHMSE = J(W) =  \\frac{1}{2m} \\sum_{i=1}^{m} (y^{(i)} - h_w(x^{(i)}))^2 $$\n",
        "\n",
        "The first derivative of OHMSE is given by:\n",
        "\n",
        "$$OHMSE' = J'(W) = \\frac{1}{m} \\sum_{i=1}^{m} (h_w(x^{(i)}) - y^{(i)})$$"
      ]
    },
    {
      "cell_type": "code",
      "metadata": {
        "id": "7PFCAqS2atC3",
        "colab_type": "code",
        "colab": {}
      },
      "source": [
        "def loss(h, y):\n",
        "  sq_error = (h - y)**2\n",
        "  n = len(y)\n",
        "  return 1.0 / (2*n) * sq_error.sum()"
      ],
      "execution_count": null,
      "outputs": []
    },
    {
      "cell_type": "code",
      "metadata": {
        "id": "v6MWAKGYlSQY",
        "colab_type": "code",
        "colab": {}
      },
      "source": [
        "class TestLoss(unittest.TestCase):\n",
        "\n",
        "  def test_zero_h_zero_y(self):\n",
        "    self.assertAlmostEqual(loss(h=np.array([0]), y=np.array([0])), 0)\n",
        "\n",
        "  def test_one_h_zero_y(self):\n",
        "    self.assertAlmostEqual(loss(h=np.array([1]), y=np.array([0])), 0.5)\n",
        "\n",
        "  def test_two_h_zero_y(self):\n",
        "    self.assertAlmostEqual(loss(h=np.array([2]), y=np.array([0])), 2)\n",
        "    \n",
        "  def test_zero_h_one_y(self):\n",
        "    self.assertAlmostEqual(loss(h=np.array([0]), y=np.array([1])), 0.5)\n",
        "    \n",
        "  def test_zero_h_two_y(self):\n",
        "    self.assertAlmostEqual(loss(h=np.array([0]), y=np.array([2])), 2)"
      ],
      "execution_count": null,
      "outputs": []
    },
    {
      "cell_type": "code",
      "metadata": {
        "id": "YaOPbVF2lT4j",
        "colab_type": "code",
        "colab": {
          "base_uri": "https://localhost:8080/",
          "height": 102
        },
        "outputId": "1a51715b-0185-4ec1-b47a-9d434897f784",
        "tags": []
      },
      "source": [
        "run_tests()"
      ],
      "execution_count": null,
      "outputs": []
    },
    {
      "cell_type": "code",
      "metadata": {
        "id": "jG2ss3oyFOuX",
        "colab_type": "code",
        "colab": {}
      },
      "source": [
        "class LinearRegression:\n",
        "  \n",
        "  def predict(self, X):\n",
        "    return np.dot(X, self._W)\n",
        "  \n",
        "  def _gradient_descent_step(self, X, targets, lr):\n",
        "\n",
        "    predictions = self.predict(X)\n",
        "    \n",
        "    error = predictions - targets\n",
        "    gradient = np.dot(X.T,  error) / len(X)\n",
        "\n",
        "    self._W -= lr * gradient\n",
        "      \n",
        "  def fit(self, X, y, n_iter=100000, lr=0.01):\n",
        "\n",
        "    self._W = np.zeros(X.shape[1])\n",
        "\n",
        "    self._cost_history = []\n",
        "    self._w_history = [self._W]\n",
        "    for i in range(n_iter):\n",
        "      \n",
        "        prediction = self.predict(X)\n",
        "        cost = loss(prediction, y)\n",
        "        \n",
        "        self._cost_history.append(cost)\n",
        "        \n",
        "        self._gradient_descent_step(x, y, lr)\n",
        "        \n",
        "        self._w_history.append(self._W.copy())\n",
        "    return self"
      ],
      "execution_count": null,
      "outputs": []
    },
    {
      "cell_type": "code",
      "metadata": {
        "id": "BGWFw7yCrNj6",
        "colab_type": "code",
        "colab": {}
      },
      "source": [
        "class TestLinearRegression(unittest.TestCase):\n",
        "\n",
        "    def test_find_coefficients(self):\n",
        "      clf = LinearRegression()\n",
        "      clf.fit(x, y, n_iter=2000, lr=0.01)\n",
        "      np.testing.assert_array_almost_equal(clf._W, np.array([180921.19555322,  56294.90199925]))"
      ],
      "execution_count": null,
      "outputs": []
    },
    {
      "cell_type": "code",
      "metadata": {
        "id": "AgbjeZbHrtz8",
        "colab_type": "code",
        "colab": {
          "base_uri": "https://localhost:8080/",
          "height": 102
        },
        "outputId": "b821c7f4-deaf-4e2d-be02-da2471d7ddae",
        "tags": []
      },
      "source": [
        "run_tests()"
      ],
      "execution_count": null,
      "outputs": []
    },
    {
      "cell_type": "code",
      "metadata": {
        "id": "Dl5Io9hMJRAm",
        "colab_type": "code",
        "colab": {
          "base_uri": "https://localhost:8080/",
          "height": 34
        },
        "outputId": "94f3b26b-a3d3-4c69-8339-075ffcd9dfd1"
      },
      "source": [
        "clf = LinearRegression()\n",
        "clf.fit(x, y, n_iter=2000, lr=0.01)"
      ],
      "execution_count": null,
      "outputs": []
    },
    {
      "cell_type": "code",
      "metadata": {
        "id": "9cmILFdpJ0MS",
        "colab_type": "code",
        "colab": {
          "base_uri": "https://localhost:8080/",
          "height": 34
        },
        "outputId": "eb0b9525-4ad3-4b3b-ce42-76f3eb5eff18"
      },
      "source": [
        "clf._W"
      ],
      "execution_count": null,
      "outputs": []
    },
    {
      "cell_type": "code",
      "metadata": {
        "id": "t2FeoJ6aOZlX",
        "colab_type": "code",
        "colab": {
          "base_uri": "https://localhost:8080/",
          "height": 525
        },
        "outputId": "6def3390-f8dc-41d7-f63a-66b343e2b5c7"
      },
      "source": [
        "plt.title('Cost Function J')\n",
        "plt.xlabel('No. of iterations')\n",
        "plt.ylabel('Cost')\n",
        "plt.plot(clf._cost_history)\n",
        "plt.show()"
      ],
      "execution_count": null,
      "outputs": []
    },
    {
      "cell_type": "code",
      "metadata": {
        "id": "2aYdUELAMyE6",
        "colab_type": "code",
        "colab": {
          "base_uri": "https://localhost:8080/",
          "height": 34
        },
        "outputId": "869eff82-e88f-4eeb-9782-7f7729df7e85"
      },
      "source": [
        "clf._cost_history[-1]"
      ],
      "execution_count": null,
      "outputs": []
    },
    {
      "cell_type": "code",
      "metadata": {
        "id": "D382iNZEO0Zo",
        "colab_type": "code",
        "colab": {
          "base_uri": "https://localhost:8080/",
          "height": 704
        },
        "outputId": "6453181e-5175-4be9-e68e-1b5bdc413a8d"
      },
      "source": [
        "#Animation\n",
        "\n",
        "#Set the plot up,\n",
        "fig = plt.figure()\n",
        "ax = plt.axes()\n",
        "plt.title('Sale Price vs Living Area')\n",
        "plt.xlabel('Living Area in square feet (normalised)')\n",
        "plt.ylabel('Sale Price ($)')\n",
        "plt.scatter(x[:,1], y)\n",
        "line, = ax.plot([], [], lw=2, color='red')\n",
        "annotation = ax.text(-1, 700000, '')\n",
        "annotation.set_animated(True)\n",
        "plt.close()\n",
        "\n",
        "#Generate the animation data,\n",
        "def init():\n",
        "    line.set_data([], [])\n",
        "    annotation.set_text('')\n",
        "    return line, annotation\n",
        "\n",
        "# animation function.  This is called sequentially\n",
        "def animate(i):\n",
        "    x = np.linspace(-5, 20, 1000)\n",
        "    y = clf._w_history[i][1]*x + clf._w_history[i][0]\n",
        "    line.set_data(x, y)\n",
        "    annotation.set_text('Cost = %.2f e10' % (clf._cost_history[i]/10000000000))\n",
        "    return line, annotation\n",
        "\n",
        "anim = animation.FuncAnimation(fig, animate, init_func=init,\n",
        "                               frames=300, interval=10, blit=True)\n",
        "\n",
        "rc('animation', html='jshtml')\n",
        "\n",
        "anim"
      ],
      "execution_count": null,
      "outputs": []
    },
    {
      "cell_type": "markdown",
      "metadata": {
        "id": "vRxiVvutuQ30",
        "colab_type": "text"
      },
      "source": [
        "# Multivariable Linear Regression\n",
        "\n",
        "Let's use more of the available data to build a Multivariable Linear Regression model and see whether or not that will improve our OHMSE error:"
      ]
    },
    {
      "cell_type": "code",
      "metadata": {
        "id": "7COJ54iJuQTC",
        "colab_type": "code",
        "colab": {
          "base_uri": "https://localhost:8080/",
          "height": 34
        },
        "outputId": "68e81cf9-5c7d-4f59-ef99-f6b16e4be93d"
      },
      "source": [
        "x = df_train[['OverallQual', 'GrLivArea', 'GarageCars']]\n",
        "\n",
        "x = (x - x.mean()) / x.std()\n",
        "x = np.c_[np.ones(x.shape[0]), x] \n",
        "\n",
        "clf = LinearRegression()\n",
        "clf.fit(x, y, n_iter=2000, lr=0.01)"
      ],
      "execution_count": null,
      "outputs": []
    },
    {
      "cell_type": "code",
      "metadata": {
        "id": "cW68k8Duu1Tw",
        "colab_type": "code",
        "colab": {
          "base_uri": "https://localhost:8080/",
          "height": 34
        },
        "outputId": "71b000a2-26d1-4c88-abac-ffad276815c7"
      },
      "source": [
        "clf._W"
      ],
      "execution_count": null,
      "outputs": []
    },
    {
      "cell_type": "code",
      "metadata": {
        "id": "8ZcgpItsu5GO",
        "colab_type": "code",
        "colab": {
          "base_uri": "https://localhost:8080/",
          "height": 525
        },
        "outputId": "c8e913b3-8f63-4e93-f9d1-1adeb1c9fda0"
      },
      "source": [
        "plt.title('Cost Function J')\n",
        "plt.xlabel('No. of iterations')\n",
        "plt.ylabel('Cost')\n",
        "plt.plot(clf._cost_history)\n",
        "plt.show()"
      ],
      "execution_count": null,
      "outputs": []
    },
    {
      "cell_type": "code",
      "metadata": {
        "id": "Jv4q_lPQu80b",
        "colab_type": "code",
        "colab": {
          "base_uri": "https://localhost:8080/",
          "height": 34
        },
        "outputId": "b5fe4ad6-98ad-4d0e-cec8-667b2b09e5aa"
      },
      "source": [
        "clf._cost_history[-1]"
      ],
      "execution_count": null,
      "outputs": []
    },
    {
      "cell_type": "markdown",
      "metadata": {},
      "source": [
        "# Map Plot"
      ]
    },
    {
      "cell_type": "markdown",
      "metadata": {},
      "source": [
        "## Static Map"
      ]
    },
    {
      "cell_type": "code",
      "execution_count": null,
      "metadata": {},
      "outputs": [],
      "source": [
        "from shapely.geometry import Point\n",
        "import geopandas as gpd\n",
        "from geopandas import GeoDataFrame\n",
        "\n",
        "geometry = [Point(xy) for xy in zip(df_train['long'], df_train['lat'])]\n",
        "gdf = GeoDataFrame(df_train, geometry=geometry)   \n",
        "\n",
        "#this is a simple map that goes with geopandas\n",
        "world = gpd.read_file(gpd.datasets.get_path('naturalearth_lowres'))\n",
        "gdf.plot(ax=world.plot(figsize=(10, 6)), marker='o', color='red', markersize=15);"
      ]
    },
    {
      "cell_type": "markdown",
      "metadata": {},
      "source": [
        "## Dynamic Map"
      ]
    },
    {
      "cell_type": "code",
      "execution_count": null,
      "metadata": {
        "tags": []
      },
      "outputs": [],
      "source": [
        "!pip install ipyleaflet"
      ]
    },
    {
      "cell_type": "code",
      "execution_count": null,
      "metadata": {},
      "outputs": [],
      "source": [
        "from ipyleaflet import Map, Marker, MarkerCluster\n",
        "\n",
        "longitudes = df_train['long'].values.tolist()\n",
        "latitudes = df_train['lat'].values.tolist()\n",
        "\n",
        "markers = []\n",
        "\n",
        "for lon,lat in zip(longitudes, latitudes):\n",
        "    markers.append(Marker(location=(lat, lon)))\n",
        "\n",
        "m = Map(center=(latitudes[0], longitudes[0]), zoom=10)\n",
        "\n",
        "marker_cluster = MarkerCluster(\n",
        "    markers=markers\n",
        ")\n",
        "\n",
        "m.add_layer(marker_cluster);\n",
        "\n",
        "m"
      ]
    },
    {
      "cell_type": "code",
      "execution_count": null,
      "metadata": {},
      "outputs": [],
      "source": []
    }
  ]
}