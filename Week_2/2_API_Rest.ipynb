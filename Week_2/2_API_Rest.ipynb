{
 "metadata": {
  "language_info": {
   "codemirror_mode": {
    "name": "ipython",
    "version": 3
   },
   "file_extension": ".py",
   "mimetype": "text/x-python",
   "name": "python",
   "nbconvert_exporter": "python",
   "pygments_lexer": "ipython3",
   "version": "3.7.8-final"
  },
  "orig_nbformat": 2,
  "kernelspec": {
   "name": "python3",
   "display_name": "Python 3"
  }
 },
 "nbformat": 4,
 "nbformat_minor": 2,
 "cells": [
  {
   "cell_type": "markdown",
   "metadata": {},
   "source": [
    "# 87651260 Applications of Geographic Information System"
   ]
  },
  {
   "cell_type": "markdown",
   "metadata": {},
   "source": [
    "# API Rest\n",
    "\n",
    "## Attawut Nardkulpat, Reseach Officer, Burapha University\n",
    "### attawut@buu.ac.th\n",
    "### 08/08/2020"
   ]
  },
  {
   "cell_type": "markdown",
   "metadata": {},
   "source": [
    "# ThaiRSC"
   ]
  },
  {
   "cell_type": "code",
   "execution_count": 1,
   "metadata": {
    "tags": []
   },
   "outputs": [
    {
     "output_type": "stream",
     "name": "stdout",
     "text": "Requirement already satisfied: geojson in c:\\users\\attawutn\\anaconda3\\lib\\site-packages (2.5.0)\n"
    }
   ],
   "source": [
    "!pip install geojson"
   ]
  },
  {
   "cell_type": "code",
   "execution_count": 2,
   "metadata": {},
   "outputs": [],
   "source": [
    "import pandas as pd\n",
    "import geopandas as gpd\n",
    "import requests\n",
    "from datetime import datetime\n",
    "from datetime import timedelta \n",
    "from shapely.geometry import Point\n",
    "import geojson\n",
    "import shutil as cp\n",
    "import os\n",
    "import datetime\n",
    "import glob"
   ]
  },
  {
   "cell_type": "code",
   "execution_count": 3,
   "metadata": {},
   "outputs": [],
   "source": [
    "yy = int(2019)\n",
    "cnt = 51\n",
    "provid = str(\"ชบ\")\n",
    "url = \"http://www.thairsc.com/services/GetAmphurTopThreeList\""
   ]
  },
  {
   "cell_type": "code",
   "execution_count": 4,
   "metadata": {
    "tags": []
   },
   "outputs": [
    {
     "output_type": "stream",
     "name": "stdout",
     "text": "Finish ชบ\n"
    }
   ],
   "source": [
    "\n",
    "cnt = 51\n",
    "for cnt in range(1,cnt):\n",
    "    querystring = {\"provid\":provid,\"ampid\":cnt,\"years\":yy} \n",
    "    headers = {\n",
    "        }\n",
    "    #print(querystring)\n",
    "    response = requests.request(\"POST\", url, headers=headers, params=querystring)\n",
    "    Output = response.json()\n",
    "    #print(Output['dtLatlng'])\n",
    "    dict1 =Output\n",
    "    #print(Output)\n",
    "    ab0 = len(Output['dtLatlng'])\n",
    "    if ab0 == 0:\n",
    "        print(\"Finish\",provid)\n",
    "        break\n",
    "    elif ab0 > 0:\n",
    "        df0 = pd.DataFrame()\n",
    "        list_branch_accdate=[]\n",
    "        for i in range(0,ab0):\n",
    "            list_branch_accdate.append(dict1['dtLatlng'][i]['accdate'])\n",
    "        df0['accdate']=list_branch_accdate\n",
    "        list_branch_accplace=[]\n",
    "        for i in range(0,ab0):\n",
    "            list_branch_accplace.append(dict1['dtLatlng'][i]['accplace'])\n",
    "        df0['accplace']=list_branch_accplace\n",
    "\n",
    "        list_branch_accnature=[]\n",
    "        for i in range(0,ab0):\n",
    "            list_branch_accnature.append(dict1['dtLatlng'][i]['accnature'])\n",
    "        df0['accnature']=list_branch_accnature\n",
    "\n",
    "        list_branch_isdead=[]\n",
    "        for i in range(0,ab0):\n",
    "            list_branch_isdead.append(dict1['dtLatlng'][i]['isdead'])\n",
    "        df0['isdead']=list_branch_isdead\n",
    "\n",
    "        list_branch_lat=[]\n",
    "        for i in range(0,ab0):\n",
    "            list_branch_lat.append(dict1['dtLatlng'][i]['lat'])\n",
    "        df0['lat']=list_branch_lat\n",
    "\n",
    "        list_branch_lng=[]\n",
    "        for i in range(0,ab0):\n",
    "            list_branch_lng.append(dict1['dtLatlng'][i]['lng'])\n",
    "        df0['lng']=list_branch_lng\n",
    "\n",
    "        df0['year'] = yy\n",
    "\n",
    "        df0.to_csv('thairsc_test.csv', encoding='utf-8-sig')"
   ]
  },
  {
   "cell_type": "markdown",
   "metadata": {},
   "source": [
    "# Flickr"
   ]
  },
  {
   "cell_type": "code",
   "execution_count": 5,
   "metadata": {
    "tags": []
   },
   "outputs": [
    {
     "output_type": "stream",
     "name": "stdout",
     "text": "Requirement already satisfied: flickrapi in c:\\users\\attawutn\\anaconda3\\lib\\site-packages (2.4.0)\nRequirement already satisfied: requests>=2.2.1 in c:\\users\\attawutn\\anaconda3\\lib\\site-packages (from flickrapi) (2.24.0)\nRequirement already satisfied: requests-oauthlib>=0.4.0 in c:\\users\\attawutn\\anaconda3\\lib\\site-packages (from flickrapi) (1.3.0)\nRequirement already satisfied: requests-toolbelt>=0.3.1 in c:\\users\\attawutn\\anaconda3\\lib\\site-packages (from flickrapi) (0.9.1)\nRequirement already satisfied: six>=1.5.2 in c:\\users\\attawutn\\anaconda3\\lib\\site-packages (from flickrapi) (1.15.0)\nRequirement already satisfied: chardet<4,>=3.0.2 in c:\\users\\attawutn\\anaconda3\\lib\\site-packages (from requests>=2.2.1->flickrapi) (3.0.4)\nRequirement already satisfied: idna<3,>=2.5 in c:\\users\\attawutn\\anaconda3\\lib\\site-packages (from requests>=2.2.1->flickrapi) (2.10)\nRequirement already satisfied: urllib3!=1.25.0,!=1.25.1,<1.26,>=1.21.1 in c:\\users\\attawutn\\anaconda3\\lib\\site-packages (from requests>=2.2.1->flickrapi) (1.25.9)\nRequirement already satisfied: certifi>=2017.4.17 in c:\\users\\attawutn\\anaconda3\\lib\\site-packages (from requests>=2.2.1->flickrapi) (2020.6.20)\nRequirement already satisfied: oauthlib>=3.0.0 in c:\\users\\attawutn\\anaconda3\\lib\\site-packages (from requests-oauthlib>=0.4.0->flickrapi) (3.1.0)\nERROR: Could not find a version that satisfies the requirement json (from versions: none)\nERROR: No matching distribution found for json\nRequirement already satisfied: pandas in c:\\users\\attawutn\\anaconda3\\lib\\site-packages (1.0.5)\nRequirement already satisfied: numpy>=1.13.3 in c:\\users\\attawutn\\anaconda3\\lib\\site-packages (from pandas) (1.19.1)\nRequirement already satisfied: python-dateutil>=2.6.1 in c:\\users\\attawutn\\anaconda3\\lib\\site-packages (from pandas) (2.8.1)\nRequirement already satisfied: pytz>=2017.2 in c:\\users\\attawutn\\anaconda3\\lib\\site-packages (from pandas) (2020.1)\nRequirement already satisfied: six>=1.5 in c:\\users\\attawutn\\anaconda3\\lib\\site-packages (from python-dateutil>=2.6.1->pandas) (1.15.0)\nERROR: Could not find a version that satisfies the requirement re (from versions: none)\nERROR: No matching distribution found for re\nERROR: Could not find a version that satisfies the requirement json (from versions: none)\nERROR: No matching distribution found for json\nERROR: Could not find a version that satisfies the requirement os (from versions: none)\nERROR: No matching distribution found for os\nERROR: Could not find a version that satisfies the requirement csv (from versions: none)\nERROR: No matching distribution found for csv\nERROR: Could not find a version that satisfies the requirement glob (from versions: none)\nERROR: No matching distribution found for glob\n"
    }
   ],
   "source": [
    "!pip install flickrapi\n",
    "!pip install json\n",
    "!pip install pandas\n",
    "!pip install re\n",
    "!pip install json\n",
    "!pip install os\n",
    "!pip install csv\n",
    "!pip install glob"
   ]
  },
  {
   "cell_type": "code",
   "execution_count": 6,
   "metadata": {},
   "outputs": [],
   "source": [
    "from flickrapi import FlickrAPI\n",
    "import json\n",
    "import pandas as pd   \n",
    "import re\n",
    "import json \n",
    "import csv \n",
    "import os\n",
    "import glob"
   ]
  },
  {
   "cell_type": "code",
   "execution_count": 7,
   "metadata": {},
   "outputs": [],
   "source": [
    "keyword = str(\"Chon Buri\")\n",
    "\n",
    "#Get Flickr\n",
    "FLICKR_PUBLIC = '600f227c5cbb0842e96974beeca16464'\n",
    "FLICKR_SECRET = '4b6ed1f86378b71f'\n",
    "flickr = FlickrAPI(FLICKR_PUBLIC, FLICKR_SECRET, format='parsed-json')\n",
    "response = flickr.photos.search(text= keyword, extras = \"date_taken,owner_name,geo\",page = 1,hasgeo = \"1\",)\n",
    "title  = response['photos']['photo']"
   ]
  },
  {
   "cell_type": "code",
   "execution_count": 8,
   "metadata": {},
   "outputs": [],
   "source": [
    "to_json = json.dumps(title)\n",
    "df = pd.read_json(to_json)\n",
    "df.to_csv('flickr_test.csv', encoding='utf-8-sig')"
   ]
  }
 ]
}