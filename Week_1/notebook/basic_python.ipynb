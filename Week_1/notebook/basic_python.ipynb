{
  "nbformat": 4,
  "nbformat_minor": 0,
  "metadata": {
    "colab": {
      "name": "colab-tutorial.ipynb",
      "provenance": [],
      "collapsed_sections": []
    },
    "kernelspec": {
      "display_name": "Python 3",
      "language": "python",
      "name": "python3"
    },
    "language_info": {
      "codemirror_mode": {
        "name": "ipython",
        "version": 3
      },
      "file_extension": ".py",
      "mimetype": "text/x-python",
      "name": "python",
      "nbconvert_exporter": "python",
      "pygments_lexer": "ipython3",
      "version": "3.7.6-final"
    }
  },
  "cells": [
    {
      "cell_type": "markdown",
      "metadata": {
        "colab_type": "text",
        "id": "dzNng6vCL9eP"
      },
      "source": [
        "# 87651260 Applications of Geographic Information System"
      ]
    },
    {
      "cell_type": "markdown",
      "metadata": {
        "colab_type": "text",
        "id": "nxvEkGXPM3Xh"
      },
      "source": [
        "# Python 101 \n",
        "## Reference : Python ๑๐๑ - วิศวกรรมคอมพิวเตอร์ จุฬาลงกรณ์มหาวิทยาลัย\n",
        "## Attawut Nardkulpat, Reseach Officer, Burapha University\n",
        "### attawut@buu.ac.th\n",
        "### 01/08/2020"
      ]
    },
    {
      "cell_type": "code",
      "metadata": {
        "colab_type": "code",
        "id": "1L4Am0QATgOc",
        "colab": {
          "base_uri": "https://localhost:8080/",
          "height": 34
        },
        "outputId": "bb5ee3ac-8683-44ab-e599-a2077510f327",
        "tags": []
      },
      "source": [
        "!python --version"
      ],
      "execution_count": 1,
      "outputs": [
        {
          "output_type": "stream",
          "name": "stdout",
          "text": "Python 3.7.6\n"
        }
      ]
    },
    {
      "cell_type": "markdown",
      "metadata": {},
      "source": [
        "# Data Type, Variable and Expression"
      ]
    },
    {
      "cell_type": "markdown",
      "metadata": {},
      "source": [
        "## Data Type"
      ]
    },
    {
      "cell_type": "code",
      "execution_count": 5,
      "metadata": {
        "tags": []
      },
      "outputs": [
        {
          "output_type": "stream",
          "name": "stdout",
          "text": "0.0\n0.0\n0.0\n"
        }
      ],
      "source": [
        "a = b = c = 0.0\n",
        "print(a)\n",
        "print(b)\n",
        "print(c)"
      ]
    },
    {
      "cell_type": "code",
      "execution_count": 14,
      "metadata": {
        "tags": []
      },
      "outputs": [
        {
          "output_type": "stream",
          "name": "stdout",
          "text": "7\n"
        }
      ],
      "source": [
        "a = 3+97//2**3%8 #a มีค่ำ 3+97//8%8 = 3+12%8 = 3+4 = 7\n",
        "print(a)"
      ]
    },
    {
      "cell_type": "code",
      "execution_count": 15,
      "metadata": {
        "tags": []
      },
      "outputs": [
        {
          "output_type": "stream",
          "name": "stdout",
          "text": "514.0\n"
        }
      ],
      "source": [
        "a = 12//3/2+2**3**2 #a มีค่ำ 12//3/2+2**9 = 12//3/2+512 = 4/2+512 = 2.0+512 = 514.0\n",
        "print(a)"
      ]
    },
    {
      "cell_type": "code",
      "execution_count": 17,
      "metadata": {
        "tags": []
      },
      "outputs": [
        {
          "output_type": "stream",
          "name": "stdout",
          "text": "518.0\n"
        }
      ],
      "source": [
        "a += 2 #a = a + 2\n",
        "print(a)"
      ]
    },
    {
      "cell_type": "code",
      "execution_count": 20,
      "metadata": {
        "tags": []
      },
      "outputs": [
        {
          "output_type": "stream",
          "name": "stdout",
          "text": "3.141592653589793\n"
        }
      ],
      "source": [
        "import math\n",
        "#math.pi, math.e, math.sin(x), math.cos(x), math.sqrt(x), math.log(x,b), ...\n",
        "a = math.pi\n",
        "print(a)"
      ]
    },
    {
      "cell_type": "code",
      "execution_count": 21,
      "metadata": {
        "tags": []
      },
      "outputs": [
        {
          "output_type": "stream",
          "name": "stdout",
          "text": "0.8509035245341184\n"
        }
      ],
      "source": [
        "a = math.sin(45)\n",
        "print(a)"
      ]
    },
    {
      "cell_type": "code",
      "execution_count": 22,
      "metadata": {},
      "outputs": [
        {
          "output_type": "execute_result",
          "data": {
            "text/plain": "2.0"
          },
          "metadata": {},
          "execution_count": 22
        }
      ],
      "source": [
        "math.sqrt(4)"
      ]
    },
    {
      "cell_type": "code",
      "execution_count": 23,
      "metadata": {},
      "outputs": [
        {
          "output_type": "execute_result",
          "data": {
            "text/plain": "2.0"
          },
          "metadata": {},
          "execution_count": 23
        }
      ],
      "source": [
        "math.log(4,2)"
      ]
    },
    {
      "cell_type": "code",
      "execution_count": 24,
      "metadata": {},
      "outputs": [
        {
          "output_type": "execute_result",
          "data": {
            "text/plain": "'1223'"
          },
          "metadata": {},
          "execution_count": 24
        }
      ],
      "source": [
        "'12'+'23'"
      ]
    },
    {
      "cell_type": "code",
      "execution_count": 25,
      "metadata": {},
      "outputs": [
        {
          "output_type": "execute_result",
          "data": {
            "text/plain": "12"
          },
          "metadata": {},
          "execution_count": 25
        }
      ],
      "source": [
        "int('12')"
      ]
    },
    {
      "cell_type": "code",
      "execution_count": 26,
      "metadata": {},
      "outputs": [
        {
          "output_type": "execute_result",
          "data": {
            "text/plain": "1.2"
          },
          "metadata": {},
          "execution_count": 26
        }
      ],
      "source": [
        "float('1.2')"
      ]
    },
    {
      "cell_type": "code",
      "execution_count": 27,
      "metadata": {},
      "outputs": [
        {
          "output_type": "execute_result",
          "data": {
            "text/plain": "'6'"
          },
          "metadata": {},
          "execution_count": 27
        }
      ],
      "source": [
        "str(12//2)"
      ]
    },
    {
      "cell_type": "markdown",
      "metadata": {},
      "source": [
        "## input"
      ]
    },
    {
      "cell_type": "code",
      "execution_count": 30,
      "metadata": {
        "tags": []
      },
      "outputs": [
        {
          "output_type": "stream",
          "name": "stdout",
          "text": "20\n"
        }
      ],
      "source": [
        "a = input()\n",
        "print(a)"
      ]
    },
    {
      "cell_type": "code",
      "execution_count": 32,
      "metadata": {
        "tags": []
      },
      "outputs": [
        {
          "output_type": "stream",
          "name": "stdout",
          "text": "abcdefg\n"
        }
      ],
      "source": [
        "a = input().strip()\n",
        "print(a)"
      ]
    },
    {
      "cell_type": "code",
      "execution_count": 34,
      "metadata": {},
      "outputs": [],
      "source": [
        "a = int(input())\n",
        "a = float(input())"
      ]
    },
    {
      "cell_type": "markdown",
      "metadata": {},
      "source": [
        "# Selection ( if-elif-else )"
      ]
    },
    {
      "cell_type": "code",
      "execution_count": 40,
      "metadata": {
        "tags": []
      },
      "outputs": [
        {
          "output_type": "stream",
          "name": "stdout",
          "text": "Do chores\n"
        }
      ],
      "source": [
        "if day == \"Sunday\":\n",
        "    print(\"Sleep in\")\n",
        "elif day == \"Saturday\":\n",
        "    print(\"Do chores\")\n",
        "else:\n",
        "    print(\"Go to work\")"
      ]
    },
    {
      "cell_type": "code",
      "execution_count": 41,
      "metadata": {
        "tags": []
      },
      "outputs": [
        {
          "output_type": "stream",
          "name": "stdout",
          "text": "Today is Sunday\n   Sleep in\nToday is Monday\n   Go to work\nToday is Tuesday\n   Go to work\nToday is Wednesday\n   Go to work\nToday is Thursday\n   Go to work\nToday is Friday\n   Go to work\nToday is Saturday\n   Do chores\n"
        }
      ],
      "source": []
    },
    {
      "cell_type": "markdown",
      "metadata": {},
      "source": [
        "# Repetition ( while, for )"
      ]
    },
    {
      "cell_type": "code",
      "execution_count": 43,
      "metadata": {
        "tags": []
      },
      "outputs": [
        {
          "output_type": "stream",
          "name": "stdout",
          "text": "x is currently:  0\n x is still less than 10, adding 1 to x\nx is currently:  1\n x is still less than 10, adding 1 to x\nx is currently:  2\n x is still less than 10, adding 1 to x\nx is currently:  3\n x is still less than 10, adding 1 to x\nx is currently:  4\n x is still less than 10, adding 1 to x\nx is currently:  5\n x is still less than 10, adding 1 to x\nx is currently:  6\n x is still less than 10, adding 1 to x\nx is currently:  7\n x is still less than 10, adding 1 to x\nx is currently:  8\n x is still less than 10, adding 1 to x\nx is currently:  9\n x is still less than 10, adding 1 to x\n"
        }
      ],
      "source": [
        "x = 0\n",
        "\n",
        "while x < 10:\n",
        "    print('x is currently: ',x)\n",
        "    print(' x is still less than 10, adding 1 to x')\n",
        "    x+=1"
      ]
    },
    {
      "cell_type": "code",
      "execution_count": 37,
      "metadata": {
        "tags": []
      },
      "outputs": [
        {
          "output_type": "stream",
          "name": "stdout",
          "text": "Sunday\nMonday\nTuesday\nWednesday\nThursday\nFriday\nSaturday\n"
        }
      ],
      "source": [
        "days_of_the_week = [\"Sunday\",\"Monday\",\"Tuesday\",\"Wednesday\",\"Thursday\",\"Friday\",\"Saturday\"]\n",
        "\n",
        "for day in days_of_the_week:\n",
        "    print(day)"
      ]
    },
    {
      "cell_type": "code",
      "execution_count": 38,
      "metadata": {
        "tags": []
      },
      "outputs": [
        {
          "output_type": "stream",
          "name": "stdout",
          "text": "Today is Sunday\nToday is Monday\nToday is Tuesday\nToday is Wednesday\nToday is Thursday\nToday is Friday\nToday is Saturday\n"
        }
      ],
      "source": [
        "for day in days_of_the_week:\n",
        "    statement = \"Today is \" + day\n",
        "    print(statement)"
      ]
    },
    {
      "cell_type": "code",
      "execution_count": 39,
      "metadata": {
        "tags": []
      },
      "outputs": [
        {
          "output_type": "stream",
          "name": "stdout",
          "text": "The square of 0 is 0.\nThe square of 1 is 1.\nThe square of 2 is 4.\nThe square of 3 is 9.\nThe square of 4 is 16.\nThe square of 5 is 25.\nThe square of 6 is 36.\nThe square of 7 is 49.\nThe square of 8 is 64.\nThe square of 9 is 81.\nThe square of 10 is 100.\nThe square of 11 is 121.\nThe square of 12 is 144.\nThe square of 13 is 169.\nThe square of 14 is 196.\nThe square of 15 is 225.\nThe square of 16 is 256.\nThe square of 17 is 289.\nThe square of 18 is 324.\nThe square of 19 is 361.\n"
        }
      ],
      "source": [
        "for i in range(20):\n",
        "    print(\"The square of {} is {}.\".format(i, i*i))"
      ]
    },
    {
      "cell_type": "markdown",
      "metadata": {},
      "source": [
        "## Mix : for , if - elif - else"
      ]
    },
    {
      "cell_type": "code",
      "execution_count": null,
      "metadata": {},
      "outputs": [],
      "source": [
        "for day in days_of_the_week:\n",
        "    statement = \"Today is \" + day\n",
        "    print(statement)\n",
        "    if day == \"Sunday\":\n",
        "        print(\"   Sleep in\")\n",
        "    elif day == \"Saturday\":\n",
        "        print(\"   Do chores\")\n",
        "    else:\n",
        "        print(\"   Go to work\")"
      ]
    },
    {
      "cell_type": "markdown",
      "metadata": {},
      "source": [
        "## ข้อสังเกต\n"
      ]
    },
    {
      "cell_type": "code",
      "execution_count": 45,
      "metadata": {
        "tags": []
      },
      "outputs": [
        {
          "output_type": "stream",
          "name": "stdout",
          "text": "1\n3\n2\n4\n3\n5\n"
        }
      ],
      "source": [
        "for k in range(1, 4) :\n",
        "    print(k)\n",
        "    k += 2\n",
        "    print(k)"
      ]
    },
    {
      "cell_type": "code",
      "execution_count": 46,
      "metadata": {
        "tags": []
      },
      "outputs": [
        {
          "output_type": "stream",
          "name": "stdout",
          "text": "1\n3\n3\n5\n"
        }
      ],
      "source": [
        "k = 1\n",
        "while k < 4 :\n",
        "    print(k)\n",
        "    k += 2\n",
        "    print(k)"
      ]
    },
    {
      "cell_type": "code",
      "execution_count": 44,
      "metadata": {},
      "outputs": [],
      "source": [
        "# DO NOT RUN THIS CODE!!!! \n",
        "#while True:\n",
        "#    print 'Uh Oh infinite Loop!'"
      ]
    },
    {
      "cell_type": "markdown",
      "metadata": {},
      "source": [
        "# String"
      ]
    },
    {
      "cell_type": "code",
      "execution_count": 71,
      "metadata": {
        "tags": []
      },
      "outputs": [
        {
          "output_type": "stream",
          "name": "stdout",
          "text": "hello!\n"
        },
        {
          "output_type": "execute_result",
          "data": {
            "text/plain": "'Michael Jackson'"
          },
          "metadata": {},
          "execution_count": 71
        }
      ],
      "source": [
        "# Use quotation marks for defining string\n",
        "\"Michael Jackson\"\n",
        "\n",
        "# Use single quotation marks for defining string\n",
        "'Michael Jackson'\n",
        "\n",
        "# Digitals and spaces in string\n",
        "'1 2 3 4 5 6 '\n",
        "\n",
        "# Print the string\n",
        "print(\"hello!\")\n",
        "\n",
        "# Assign string to variable\n",
        "Name = \"Michael Jackson\"\n",
        "Name"
      ]
    },
    {
      "cell_type": "markdown",
      "metadata": {},
      "source": [
        "## Indexing"
      ]
    },
    {
      "cell_type": "markdown",
      "metadata": {},
      "source": [
        "<img src=\"https://s3-api.us-geo.objectstorage.softlayer.net/cf-courses-data/CognitiveClass/PY0101EN/Chapter%201/Images/StringsIndex.png\" width=\"600\" align=\"center\" />\n"
      ]
    },
    {
      "cell_type": "code",
      "execution_count": 74,
      "metadata": {
        "tags": []
      },
      "outputs": [
        {
          "output_type": "stream",
          "name": "stdout",
          "text": "M\nl\no\n"
        }
      ],
      "source": [
        "print(Name[0])\n",
        "print(Name[6])\n",
        "print(Name[13])"
      ]
    },
    {
      "cell_type": "markdown",
      "metadata": {},
      "source": [
        "## Negative Indexing"
      ]
    },
    {
      "cell_type": "code",
      "execution_count": 75,
      "metadata": {
        "tags": []
      },
      "outputs": [
        {
          "output_type": "stream",
          "name": "stdout",
          "text": "n\nM\n"
        }
      ],
      "source": [
        "print(Name[-1])\n",
        "print(Name[-15])"
      ]
    },
    {
      "cell_type": "code",
      "execution_count": 76,
      "metadata": {},
      "outputs": [
        {
          "output_type": "execute_result",
          "data": {
            "text/plain": "15"
          },
          "metadata": {},
          "execution_count": 76
        }
      ],
      "source": [
        "len(\"Michael Jackson\")"
      ]
    },
    {
      "cell_type": "markdown",
      "metadata": {},
      "source": [
        "## Slicing"
      ]
    },
    {
      "cell_type": "markdown",
      "metadata": {},
      "source": [
        "<img src=\"https://s3-api.us-geo.objectstorage.softlayer.net/cf-courses-data/CognitiveClass/PY0101EN/Chapter%201/Images/StringsSlice.png\" width=\"600\" align=\"center\" />"
      ]
    },
    {
      "cell_type": "code",
      "execution_count": 78,
      "metadata": {
        "tags": []
      },
      "outputs": [
        {
          "output_type": "stream",
          "name": "stdout",
          "text": "Mich\nJack\n"
        }
      ],
      "source": [
        "print(Name[0:4])\n",
        "print(Name[8:12])"
      ]
    },
    {
      "cell_type": "markdown",
      "metadata": {},
      "source": [
        "## Stride"
      ]
    },
    {
      "cell_type": "markdown",
      "metadata": {},
      "source": [
        "<img src=\"https://s3-api.us-geo.objectstorage.softlayer.net/cf-courses-data/CognitiveClass/PY0101EN/Chapter%201/Images/StringsStride.png\" width=\"600\" align=\"center\" />"
      ]
    },
    {
      "cell_type": "code",
      "execution_count": 79,
      "metadata": {},
      "outputs": [
        {
          "output_type": "execute_result",
          "data": {
            "text/plain": "'ihe ako'"
          },
          "metadata": {},
          "execution_count": 79
        }
      ],
      "source": [
        "# Get every second element. The elments on index 1, 3, 5 ...\n",
        "Name[1::2]"
      ]
    },
    {
      "cell_type": "code",
      "execution_count": 80,
      "metadata": {},
      "outputs": [
        {
          "output_type": "execute_result",
          "data": {
            "text/plain": "'Mca'"
          },
          "metadata": {},
          "execution_count": 80
        }
      ],
      "source": [
        "# Get every second element in the range from index 0 to index 4\n",
        "Name[0:5:2]"
      ]
    },
    {
      "cell_type": "markdown",
      "metadata": {},
      "source": [
        "## Concatenate Strings"
      ]
    },
    {
      "cell_type": "code",
      "execution_count": 81,
      "metadata": {},
      "outputs": [
        {
          "output_type": "execute_result",
          "data": {
            "text/plain": "'Michael Jacksonis the best'"
          },
          "metadata": {},
          "execution_count": 81
        }
      ],
      "source": [
        "Statement = Name + \"is the best\"\n",
        "Statement"
      ]
    },
    {
      "cell_type": "code",
      "execution_count": 82,
      "metadata": {},
      "outputs": [
        {
          "output_type": "execute_result",
          "data": {
            "text/plain": "'Michael JacksonMichael JacksonMichael Jackson'"
          },
          "metadata": {},
          "execution_count": 82
        }
      ],
      "source": [
        "3 * \"Michael Jackson\""
      ]
    },
    {
      "cell_type": "code",
      "execution_count": 83,
      "metadata": {},
      "outputs": [
        {
          "output_type": "execute_result",
          "data": {
            "text/plain": "'Michael Jackson is the best'"
          },
          "metadata": {},
          "execution_count": 83
        }
      ],
      "source": [
        "Name = \"Michael Jackson\"\n",
        "Name = Name + \" is the best\"\n",
        "Name"
      ]
    },
    {
      "cell_type": "markdown",
      "metadata": {},
      "source": [
        "## Escape Sequences"
      ]
    },
    {
      "cell_type": "code",
      "execution_count": 85,
      "metadata": {
        "tags": []
      },
      "outputs": [
        {
          "output_type": "stream",
          "name": "stdout",
          "text": "Michael Jackson \n is the best\n Michael Jackson \t is the best\n"
        }
      ],
      "source": [
        "# New line escape sequence\n",
        "print(\" Michael Jackson \\n is the best\" )"
      ]
    },
    {
      "cell_type": "code",
      "execution_count": 86,
      "metadata": {
        "tags": []
      },
      "outputs": [
        {
          "output_type": "stream",
          "name": "stdout",
          "text": "Michael Jackson \t is the best\n"
        }
      ],
      "source": [
        "# Tab escape sequence\n",
        "print(\" Michael Jackson \\t is the best\" )"
      ]
    },
    {
      "cell_type": "code",
      "execution_count": 87,
      "metadata": {
        "tags": []
      },
      "outputs": [
        {
          "output_type": "stream",
          "name": "stdout",
          "text": "Michael Jackson \\ is the best\n"
        }
      ],
      "source": [
        "# Include back slash in string\n",
        "print(\" Michael Jackson \\\\ is the best\" )"
      ]
    },
    {
      "cell_type": "code",
      "execution_count": 88,
      "metadata": {
        "tags": []
      },
      "outputs": [
        {
          "output_type": "stream",
          "name": "stdout",
          "text": "Michael Jackson \\ is the best\n"
        }
      ],
      "source": [
        "# r will tell python that string will be display as raw string\n",
        "print(r\" Michael Jackson \\ is the best\" )"
      ]
    },
    {
      "cell_type": "markdown",
      "metadata": {},
      "source": [
        "## String Operations"
      ]
    },
    {
      "cell_type": "code",
      "execution_count": 89,
      "metadata": {
        "tags": []
      },
      "outputs": [
        {
          "output_type": "stream",
          "name": "stdout",
          "text": "before upper: Thriller is the sixth studio album\nAfter upper: THRILLER IS THE SIXTH STUDIO ALBUM\n"
        }
      ],
      "source": [
        "# Convert all the characters in string to upper case\n",
        "A = \"Thriller is the sixth studio album\"\n",
        "print(\"before upper:\", A)\n",
        "B = A.upper()\n",
        "print(\"After upper:\", B)"
      ]
    },
    {
      "cell_type": "code",
      "execution_count": 90,
      "metadata": {},
      "outputs": [
        {
          "output_type": "execute_result",
          "data": {
            "text/plain": "'Janet Jackson is the best'"
          },
          "metadata": {},
          "execution_count": 90
        }
      ],
      "source": [
        "# Replace the old substring with the new target substring is the segment has been found in the string\n",
        "\n",
        "A = \"Michael Jackson is the best\"\n",
        "B = A.replace('Michael', 'Janet')\n",
        "B"
      ]
    },
    {
      "cell_type": "markdown",
      "metadata": {},
      "source": [
        "<img src=\"https://s3-api.us-geo.objectstorage.softlayer.net/cf-courses-data/CognitiveClass/PY0101EN/Chapter%201/Images/StringsFind.png\" width=\"600\" align=\"center\" />"
      ]
    },
    {
      "cell_type": "code",
      "execution_count": 91,
      "metadata": {},
      "outputs": [
        {
          "output_type": "execute_result",
          "data": {
            "text/plain": "5"
          },
          "metadata": {},
          "execution_count": 91
        }
      ],
      "source": [
        "# Find the substring in the string. Only the index of the first elment of substring in string will be the output\n",
        "Name = \"Michael Jackson\"\n",
        "Name.find('el')"
      ]
    },
    {
      "cell_type": "code",
      "execution_count": 92,
      "metadata": {},
      "outputs": [
        {
          "output_type": "execute_result",
          "data": {
            "text/plain": "8"
          },
          "metadata": {},
          "execution_count": 92
        }
      ],
      "source": [
        "# Find the substring in the string.\n",
        "Name.find('Jack')"
      ]
    },
    {
      "cell_type": "code",
      "execution_count": 96,
      "metadata": {},
      "outputs": [
        {
          "output_type": "execute_result",
          "data": {
            "text/plain": "-1"
          },
          "metadata": {},
          "execution_count": 96
        }
      ],
      "source": [
        "# If cannot find the substring in the string\n",
        "Name.find('iasdasdc')"
      ]
    },
    {
      "cell_type": "markdown",
      "metadata": {},
      "source": [
        "# List"
      ]
    },
    {
      "cell_type": "code",
      "execution_count": 49,
      "metadata": {},
      "outputs": [
        {
          "output_type": "execute_result",
          "data": {
            "text/plain": "True"
          },
          "metadata": {},
          "execution_count": 49
        }
      ],
      "source": [
        "x = []\n",
        "y = list()\n",
        "x == y"
      ]
    },
    {
      "cell_type": "code",
      "execution_count": 2,
      "metadata": {},
      "outputs": [],
      "source": [
        "a = [1,2,3]\n",
        "b = [1,2,3]\n",
        "c = b\n",
        "d = list(b)"
      ]
    },
    {
      "cell_type": "code",
      "execution_count": 3,
      "metadata": {},
      "outputs": [
        {
          "output_type": "execute_result",
          "data": {
            "text/plain": "3"
          },
          "metadata": {},
          "execution_count": 3
        }
      ],
      "source": [
        "len(a)"
      ]
    },
    {
      "cell_type": "code",
      "execution_count": 53,
      "metadata": {
        "tags": []
      },
      "outputs": [
        {
          "output_type": "stream",
          "name": "stdout",
          "text": "[1, 2, 3]\n['a', 'b', 'c', 'd', 'e']\n[1, 3, 5, 7, 9]\n"
        }
      ],
      "source": [
        "x = list(a)\n",
        "print(x)\n",
        "x = list('abcde')\n",
        "print(x)\n",
        "x = list(range(1,10,2))\n",
        "print(x)"
      ]
    },
    {
      "cell_type": "code",
      "execution_count": 59,
      "metadata": {},
      "outputs": [
        {
          "output_type": "execute_result",
          "data": {
            "text/plain": "list"
          },
          "metadata": {},
          "execution_count": 59
        }
      ],
      "source": [
        "type(x)"
      ]
    },
    {
      "cell_type": "code",
      "execution_count": 61,
      "metadata": {
        "tags": []
      },
      "outputs": [
        {
          "output_type": "stream",
          "name": "stdout",
          "text": "[1, 2, 3, 3, 4, 5, 1, 2, 3, 3, 4, 5]\n"
        }
      ],
      "source": [
        "x = 2*([1,2,3] + [3,4,5])\n",
        "print(x)"
      ]
    },
    {
      "cell_type": "code",
      "execution_count": 63,
      "metadata": {
        "tags": []
      },
      "outputs": [
        {
          "output_type": "stream",
          "name": "stdout",
          "text": "[1, 2, 3, 3, 4, 5, 1, 2, 3, 3, 4, 5, 1, 1]\n"
        }
      ],
      "source": [
        "x.append(1)\n",
        "print(x)"
      ]
    },
    {
      "cell_type": "code",
      "execution_count": 64,
      "metadata": {
        "tags": []
      },
      "outputs": [
        {
          "output_type": "stream",
          "name": "stdout",
          "text": "[0, 1, 2, 3, 3, 4, 5, 1, 2, 3, 3, 4, 5, 1, 1]\n"
        }
      ],
      "source": [
        "x.insert(0, 0) #x.insert(i, e)\n",
        "print(x)"
      ]
    },
    {
      "cell_type": "code",
      "execution_count": 73,
      "metadata": {
        "tags": []
      },
      "outputs": [
        {
          "output_type": "stream",
          "name": "stdout",
          "text": "[3, 3, 4, 5, 1, 1]\n"
        }
      ],
      "source": [
        "x.pop(0)\n",
        "print(x)"
      ]
    },
    {
      "cell_type": "code",
      "execution_count": 75,
      "metadata": {
        "tags": []
      },
      "outputs": [
        {
          "output_type": "stream",
          "name": "stdout",
          "text": "[1, 1, 3, 3, 4, 5]\n"
        }
      ],
      "source": [
        "x.sort()\n",
        "print(x)"
      ]
    },
    {
      "cell_type": "code",
      "execution_count": 76,
      "metadata": {},
      "outputs": [
        {
          "output_type": "execute_result",
          "data": {
            "text/plain": "[1, 1, 3, 3, 4, 5]"
          },
          "metadata": {},
          "execution_count": 76
        }
      ],
      "source": [
        "sorted(x)"
      ]
    },
    {
      "cell_type": "code",
      "execution_count": 80,
      "metadata": {
        "tags": []
      },
      "outputs": [
        {
          "output_type": "stream",
          "name": "stdout",
          "text": "17\n5\n1\n"
        }
      ],
      "source": [
        "print(sum(x))\n",
        "print(max(x))\n",
        "print(min(x))"
      ]
    },
    {
      "cell_type": "code",
      "execution_count": 102,
      "metadata": {
        "tags": []
      },
      "outputs": [
        {
          "output_type": "stream",
          "name": "stdout",
          "text": "['A string', 23, 100.232, 'o']\n"
        }
      ],
      "source": [
        "my_list = ['A string',23,100.232,'o']\n",
        "print(my_list)"
      ]
    },
    {
      "cell_type": "code",
      "execution_count": 103,
      "metadata": {},
      "outputs": [
        {
          "output_type": "execute_result",
          "data": {
            "text/plain": "4"
          },
          "metadata": {},
          "execution_count": 103
        }
      ],
      "source": [
        "len(my_list)"
      ]
    },
    {
      "cell_type": "markdown",
      "metadata": {},
      "source": [
        "# Nested List"
      ]
    },
    {
      "cell_type": "code",
      "execution_count": 4,
      "metadata": {},
      "outputs": [],
      "source": [
        "x = []\n",
        "x.append( 1 ) # [1]\n",
        "x.append( [2,3] ) # [1,[2,3]]\n",
        "x.append( [4,5,6] ) # [1,[2,3],[4,5,6]]\n",
        "x.append( [[7,8]] ) # [1,[2,3],[4,5,6],[[7,8]]]\n",
        "x.append( [] ) # [1,[2,3],[4,5,6],[[7,8]],[]]"
      ]
    },
    {
      "cell_type": "code",
      "execution_count": 5,
      "metadata": {},
      "outputs": [
        {
          "output_type": "execute_result",
          "data": {
            "text/plain": "[1, [2, 3], [4, 5, 6], [[7, 8]], []]"
          },
          "metadata": {},
          "execution_count": 5
        }
      ],
      "source": [
        "x"
      ]
    },
    {
      "cell_type": "markdown",
      "metadata": {},
      "source": [
        "# List Comprehension"
      ]
    },
    {
      "cell_type": "code",
      "execution_count": 7,
      "metadata": {
        "tags": []
      },
      "outputs": [
        {
          "output_type": "stream",
          "name": "stdout",
          "text": "['w', 'o', 'r', 'd']\n"
        }
      ],
      "source": [
        "lst = [x for x in 'word']\n",
        "print(lst)"
      ]
    },
    {
      "cell_type": "code",
      "execution_count": 8,
      "metadata": {
        "tags": []
      },
      "outputs": [
        {
          "output_type": "stream",
          "name": "stdout",
          "text": "[0, 1, 4, 9, 16, 25, 36, 49, 64, 81, 100]\n"
        }
      ],
      "source": [
        "lst = [x**2 for x in range(0,11)]\n",
        "print(lst)"
      ]
    },
    {
      "cell_type": "code",
      "execution_count": 9,
      "metadata": {
        "tags": []
      },
      "outputs": [
        {
          "output_type": "stream",
          "name": "stdout",
          "text": "[0, 2, 4, 6, 8, 10]\n"
        }
      ],
      "source": [
        "lst = [x for x in range(11) if x % 2 == 0]\n",
        "print(lst)"
      ]
    },
    {
      "cell_type": "code",
      "execution_count": 12,
      "metadata": {
        "tags": []
      },
      "outputs": [
        {
          "output_type": "stream",
          "name": "stdout",
          "text": "[0, 1, 16, 81, 256, 625, 1296, 2401, 4096, 6561, 10000]\n"
        }
      ],
      "source": [
        "lst = [ x**2 for x in [x**2 for x in range(11)]]\n",
        "print(lst)"
      ]
    },
    {
      "cell_type": "markdown",
      "metadata": {},
      "source": [
        "# Tuple, Dictionary and Set"
      ]
    },
    {
      "cell_type": "markdown",
      "metadata": {},
      "source": [
        "## List&Tuple"
      ]
    },
    {
      "cell_type": "code",
      "execution_count": 13,
      "metadata": {},
      "outputs": [],
      "source": [
        "my_list = [1, 2.5, 3, 'A'] #list\n",
        "my_tuple = (1, 2.5, 3, 'A') #tuple"
      ]
    },
    {
      "cell_type": "code",
      "execution_count": 15,
      "metadata": {
        "tags": []
      },
      "outputs": [
        {
          "output_type": "stream",
          "name": "stdout",
          "text": "<class 'list'>\n<class 'tuple'>\n"
        }
      ],
      "source": [
        "print(type(my_list))\n",
        "print(type(my_tuple))"
      ]
    },
    {
      "cell_type": "code",
      "execution_count": 19,
      "metadata": {},
      "outputs": [],
      "source": [
        "my_tuple_2 = (1,)\n",
        "not_a_tuple = (1)"
      ]
    },
    {
      "cell_type": "code",
      "execution_count": 20,
      "metadata": {
        "tags": []
      },
      "outputs": [
        {
          "output_type": "stream",
          "name": "stdout",
          "text": "<class 'tuple'>\n<class 'int'>\n"
        }
      ],
      "source": [
        "print(type(my_tuple_2))\n",
        "print(type(not_a_tuple))"
      ]
    },
    {
      "cell_type": "code",
      "execution_count": 16,
      "metadata": {},
      "outputs": [],
      "source": [
        "t1 = tuple('abc')\n",
        "t2 = tuple([1, 2, 3])"
      ]
    },
    {
      "cell_type": "code",
      "execution_count": 18,
      "metadata": {
        "tags": []
      },
      "outputs": [
        {
          "output_type": "stream",
          "name": "stdout",
          "text": "('a', 'b', 'c')\n(1, 2, 3)\n"
        }
      ],
      "source": [
        "print(t1)\n",
        "print(t2)"
      ]
    },
    {
      "cell_type": "markdown",
      "metadata": {},
      "source": [
        "## Dictionary"
      ]
    },
    {
      "cell_type": "code",
      "execution_count": 23,
      "metadata": {},
      "outputs": [],
      "source": [
        "dict1 = {}\n",
        "dict2 = dict()"
      ]
    },
    {
      "cell_type": "code",
      "execution_count": 24,
      "metadata": {
        "tags": []
      },
      "outputs": [
        {
          "output_type": "stream",
          "name": "stdout",
          "text": "<class 'dict'>\n<class 'dict'>\n"
        }
      ],
      "source": [
        "print(type(dict1))\n",
        "print(type(dict2))"
      ]
    },
    {
      "cell_type": "code",
      "execution_count": 27,
      "metadata": {},
      "outputs": [],
      "source": [
        "D = {'Name':'Sarah'}"
      ]
    },
    {
      "cell_type": "code",
      "execution_count": 28,
      "metadata": {
        "tags": []
      },
      "outputs": [
        {
          "output_type": "stream",
          "name": "stdout",
          "text": "Sarah\n"
        }
      ],
      "source": [
        "print(D['Name'])"
      ]
    },
    {
      "cell_type": "code",
      "execution_count": 29,
      "metadata": {},
      "outputs": [],
      "source": [
        "D['Age'] = 20"
      ]
    },
    {
      "cell_type": "code",
      "execution_count": 30,
      "metadata": {},
      "outputs": [],
      "source": [
        "D['Name'] = 'Somsri'"
      ]
    },
    {
      "cell_type": "code",
      "execution_count": 32,
      "metadata": {
        "tags": []
      },
      "outputs": [
        {
          "output_type": "stream",
          "name": "stdout",
          "text": "Somsri\n20\n"
        }
      ],
      "source": [
        "print(D['Name'])\n",
        "print(D['Age'])"
      ]
    },
    {
      "cell_type": "markdown",
      "metadata": {},
      "source": [
        "## Set"
      ]
    },
    {
      "cell_type": "code",
      "execution_count": 35,
      "metadata": {},
      "outputs": [],
      "source": [
        "set_1 = set()\n",
        "set_2 = {1, 2, 3}"
      ]
    },
    {
      "cell_type": "code",
      "execution_count": 40,
      "metadata": {
        "tags": []
      },
      "outputs": [
        {
          "output_type": "stream",
          "name": "stdout",
          "text": "<class 'set'>\n{1, 2, 3}\n"
        }
      ],
      "source": [
        "print(type(set_1))\n",
        "print(set_2)"
      ]
    },
    {
      "cell_type": "code",
      "execution_count": 37,
      "metadata": {},
      "outputs": [],
      "source": [
        "set_3 = set('Hello')\n",
        "set_4 = set(['oh', 'no']) \n",
        "set_5 = set(set_2)\n",
        "set_6 = set({1:2, 3:4})"
      ]
    },
    {
      "cell_type": "code",
      "execution_count": 41,
      "metadata": {
        "tags": []
      },
      "outputs": [
        {
          "output_type": "stream",
          "name": "stdout",
          "text": "{'e', 'H', 'o', 'l'}\n{'no', 'oh'}\n{1, 2, 3}\n{1, 3}\n"
        }
      ],
      "source": [
        "print(set_3)\n",
        "print(set_4)\n",
        "print(set_5)\n",
        "print(set_6)"
      ]
    },
    {
      "cell_type": "markdown",
      "metadata": {},
      "source": [
        "# Function and Recursion"
      ]
    },
    {
      "cell_type": "code",
      "execution_count": 42,
      "metadata": {},
      "outputs": [
        {
          "output_type": "error",
          "ename": "NameError",
          "evalue": "name 'median' is not defined",
          "traceback": [
            "\u001b[1;31m---------------------------------------------------------------------------\u001b[0m",
            "\u001b[1;31mNameError\u001b[0m                                 Traceback (most recent call last)",
            "\u001b[1;32m<ipython-input-42-81d66e401d8e>\u001b[0m in \u001b[0;36m<module>\u001b[1;34m\u001b[0m\n\u001b[1;32m----> 1\u001b[1;33m \u001b[0mprint\u001b[0m\u001b[1;33m(\u001b[0m\u001b[0mmedian\u001b[0m\u001b[1;33m(\u001b[0m\u001b[1;36m3\u001b[0m\u001b[1;33m,\u001b[0m\u001b[1;36m1\u001b[0m\u001b[1;33m,\u001b[0m\u001b[1;36m2\u001b[0m\u001b[1;33m)\u001b[0m\u001b[1;33m)\u001b[0m\u001b[1;33m\u001b[0m\u001b[1;33m\u001b[0m\u001b[0m\n\u001b[0m",
            "\u001b[1;31mNameError\u001b[0m: name 'median' is not defined"
          ]
        }
      ],
      "source": [
        "print(median(3,1,2))"
      ]
    },
    {
      "cell_type": "code",
      "execution_count": 43,
      "metadata": {},
      "outputs": [],
      "source": [
        "def median(x,y,z):\n",
        "    return (x+y+z)-min(x,y,z)-max(x,y,z)"
      ]
    },
    {
      "cell_type": "code",
      "execution_count": 44,
      "metadata": {},
      "outputs": [
        {
          "output_type": "execute_result",
          "data": {
            "text/plain": "2"
          },
          "metadata": {},
          "execution_count": 44
        }
      ],
      "source": [
        "median(1,2,3)"
      ]
    },
    {
      "cell_type": "code",
      "execution_count": 45,
      "metadata": {},
      "outputs": [],
      "source": [
        "def average(x,y):\n",
        "    return (x+y)/2"
      ]
    },
    {
      "cell_type": "code",
      "execution_count": 46,
      "metadata": {},
      "outputs": [
        {
          "output_type": "execute_result",
          "data": {
            "text/plain": "15.0"
          },
          "metadata": {},
          "execution_count": 46
        }
      ],
      "source": [
        "average(10,20)"
      ]
    },
    {
      "cell_type": "code",
      "execution_count": 47,
      "metadata": {},
      "outputs": [],
      "source": [
        "def factorial(n):\n",
        "    if n < 2: return 1\n",
        "    return n * factorial(n-1)"
      ]
    },
    {
      "cell_type": "code",
      "execution_count": 48,
      "metadata": {},
      "outputs": [
        {
          "output_type": "execute_result",
          "data": {
            "text/plain": "120"
          },
          "metadata": {},
          "execution_count": 48
        }
      ],
      "source": [
        "factorial(5)"
      ]
    },
    {
      "cell_type": "markdown",
      "metadata": {},
      "source": [
        "# NumPy"
      ]
    },
    {
      "cell_type": "code",
      "execution_count": 49,
      "metadata": {},
      "outputs": [],
      "source": [
        "import numpy as np"
      ]
    },
    {
      "cell_type": "markdown",
      "metadata": {},
      "source": [
        "## Numpy Basics"
      ]
    },
    {
      "cell_type": "code",
      "execution_count": 51,
      "metadata": {
        "tags": []
      },
      "outputs": [
        {
          "output_type": "stream",
          "name": "stdout",
          "text": "(15,)\nshape:  (3, 5)\ndimension:  2\ndata type:  int32\nsize:  15\ntype:  <class 'numpy.ndarray'>\n[[5. 0. 0. 0.]\n [0. 0. 0. 0.]\n [0. 0. 0. 0.]]\n[10 15 20 25 30 35 40 45]\n[10.         12.10526316 14.21052632 16.31578947 18.42105263 20.52631579\n 22.63157895 24.73684211 26.84210526 28.94736842 31.05263158 33.15789474\n 35.26315789 37.36842105 39.47368421 41.57894737 43.68421053 45.78947368\n 47.89473684 50.        ]\n--------------------------------------\nData-type of the array's elements.\n\nParameters\n----------\nNone\n\nReturns\n-------\nd : numpy dtype object\n\nSee Also\n--------\nnumpy.dtype\n\nExamples\n--------\n>>> x\narray([[0, 1],\n       [2, 3]])\n>>> x.dtype\ndtype('int32')\n>>> type(x.dtype)\n<type 'numpy.dtype'>\n"
        }
      ],
      "source": [
        "array = np.array([1,2,3,4,5,6,7,8,9,10,11,12,13,14,15])  # 1*15 vector\n",
        "\n",
        "print(array.shape) # Array dimensions\n",
        "\n",
        "a = array.reshape(3,5) # Reshape, but don’t change data\n",
        "print(\"shape: \",a.shape)\n",
        "print(\"dimension: \", a.ndim) # Number of array dimensions\n",
        "print(\"data type: \",a.dtype.name) # Data type of array elements\n",
        "print(\"size: \",a.size) # Number of array elements\n",
        "print(\"type: \",type(a))\n",
        "\n",
        "array1 = np.array([[1,2,3,4],[5,6,7,8],[9,8,7,5]])\n",
        "zeros = np.zeros((3,4)) # Create an array of zeros\n",
        "\n",
        "zeros[0,0] = 5\n",
        "print(zeros)\n",
        "\n",
        "np.ones((3,4)) # Create an array of ones\n",
        "\n",
        "np.empty((2,3)) # Create an empty array\n",
        "\n",
        "a = np.arange(10,50,5) # Create an array of evenly   spaced values (step value)\n",
        "print(a)\n",
        "\n",
        "a = np.linspace(10,50,20) # Create an array of evenly   spaced values (number of samples)\n",
        "print(a)\n",
        "\n",
        "print(\"--------------------------------------\")\n",
        "# Asking for help\n",
        "np.info(np.ndarray.dtype)"
      ]
    },
    {
      "cell_type": "markdown",
      "metadata": {},
      "source": [
        "## Numpy Basic Operations"
      ]
    },
    {
      "cell_type": "code",
      "execution_count": 52,
      "metadata": {
        "tags": []
      },
      "outputs": [
        {
          "output_type": "stream",
          "name": "stdout",
          "text": "[5 7 9]\n[-3 -3 -3]\n[0.84147098 0.90929743 0.14112001]\n[1.         1.41421356 1.73205081]\n[1 4 9]\n[2 4 6]\n[[ 1  4  9]\n [16 25 36]]\n[[  2.71828183   7.3890561   20.08553692]\n [ 54.59815003 148.4131591  403.42879349]]\n[[0.         0.69314718 1.09861229]\n [1.38629436 1.60943791 1.79175947]]\n---------------------------------------------\n14.707992318196398\n0.9699281352471656\n0.014812423422647325\n[2.67850054 2.77971317 3.97068216 1.91989051 3.35920595]\n[3.15789319 2.86861768 3.23352442 2.1280112  3.31994583]\n0.5883196927278559\n1.707825127659933\n---------------------------------------------\n"
        }
      ],
      "source": [
        "a = np.array([1,2,3])\n",
        "b = np.array([4,5,6])\n",
        "\n",
        "# Arithmetic Operations\n",
        "\n",
        "print(a+b) # Addition\n",
        "print(a-b) # Subtraction\n",
        "print(np.sin(a)) # Print sines of an array\n",
        "print(np.sqrt(a)) # Square root\n",
        "print(np.square(a)) # a**2\n",
        "print(np.add(a,a)) # Addition\n",
        "\n",
        "a = np.array([[1,2,3],[4,5,6]])\n",
        "b = np.array([[1,2,3],[4,5,6]])\n",
        "\n",
        "# element wise prodcut\n",
        "print(a*b)\n",
        "\n",
        "# matrix prodcut\n",
        "a.dot(b.T)\n",
        "\n",
        "print(np.exp(a)) # Exponentiation\n",
        "print(np.log(a)) # Element-wise natural logarithm \n",
        "a = np.random.random((5,5))\n",
        "\n",
        "print(\"---------------------------------------------\")\n",
        "# Aggregate Functions\n",
        "\n",
        "print(a.sum()) # Array-wise sum\n",
        "print(a.max()) # Maximum value of an array row\n",
        "print(a.min()) # Array-wise minimum value \n",
        "print(a.sum(axis=0)) # Sum of an array row\n",
        "print(a.sum(axis=1)) # Sum of an array column\n",
        "print(a.mean()) # Mean\n",
        "print(np.std(b)) # Standard deviation\n",
        "print(\"---------------------------------------------\")"
      ]
    },
    {
      "cell_type": "markdown",
      "metadata": {},
      "source": [
        "## Indexing and Slicing"
      ]
    },
    {
      "cell_type": "code",
      "execution_count": 53,
      "metadata": {
        "tags": []
      },
      "outputs": [
        {
          "output_type": "stream",
          "name": "stdout",
          "text": "Array:  [1 2 3 4 5 6 7]\n1\n[1 2 3 4]\n[7 6 5 4 3 2 1]\n--------------------------------------------------\nArray 1:  [[ 1  2  3  4  5]\n [ 6  7  8  9 10]]\n7\n[2 7]\n[7 8 9]\n[ 6  7  8  9 10]\n[ 5 10]\n"
        }
      ],
      "source": [
        "array = np.array([1,2,3,4,5,6,7])   #  vector dimension = 1\n",
        "print(\"Array: \",array)\n",
        "print(array[0]) # Select the element at the zero index\n",
        "\n",
        "print(array[0:4]) # Select items at index 0, 1, 2 and 3\n",
        "\n",
        "reverse_array = array[::-1] # Reversed array\n",
        "print(reverse_array)\n",
        "\n",
        "print(\"--------------------------------------------------\")\n",
        "\n",
        "array1 = np.array([[1,2,3,4,5],[6,7,8,9,10]])\n",
        "print(\"Array 1: \", array1)\n",
        "print(array1[1,1]) # Select items at row 1 in column 1\n",
        "print(array1[:,1])\n",
        "print(array1[1,1:4]) \n",
        "print(array1[-1,:])\n",
        "print(array1[:,-1])"
      ]
    },
    {
      "cell_type": "markdown",
      "metadata": {},
      "source": [
        "## Shape Manipulation"
      ]
    },
    {
      "cell_type": "code",
      "execution_count": 55,
      "metadata": {
        "tags": []
      },
      "outputs": [
        {
          "output_type": "stream",
          "name": "stdout",
          "text": "Array: \n [[1 2 3]\n [4 5 6]\n [7 8 9]]\nTranspose of array :\n [[1 4 7]\n [2 5 8]\n [3 6 9]]\nVeritical Combining: \n [[ 1  2]\n [ 3  4]\n [-1 -2]\n [-3 -4]]\nHorizontal Combining: \n [[ 1  2 -1 -2]\n [ 3  4 -3 -4]]\n"
        },
        {
          "output_type": "execute_result",
          "data": {
            "text/plain": "array([[ 1,  2, -1, -2],\n       [ 3,  4, -3, -4]])"
          },
          "metadata": {},
          "execution_count": 55
        }
      ],
      "source": [
        "array = np.array([[1,2,3],[4,5,6],[7,8,9]])\n",
        "print(\"Array: \\n\", array)\n",
        "\n",
        "# Transposing Array\n",
        "print(\"Transpose of array :\\n\", array.T) \n",
        "\n",
        "# Changing Array Shape\n",
        "a = array.ravel() # Flatten the array\n",
        "array2 = a.reshape(3,3) # Reshape, but don’t change data\n",
        "\n",
        "# Stacking Arrays\n",
        "array3 = np.array([[1,2],[3,4]])\n",
        "array4 = np.array([[-1,-2],[-3,-4]])\n",
        "\n",
        "# Veritical Combining\n",
        "array5 = np.vstack((array3,array4))\n",
        "print(\"Veritical Combining: \\n\",array5)\n",
        "# Horizontal Combining\n",
        "array6 = np.hstack((array3,array4))\n",
        "print(\"Horizontal Combining: \\n\",array6)\n",
        "\n",
        "# Different Combining Technique\n",
        "np.concatenate((array3,array4),axis=0) # Veritical Combining\n",
        "np.concatenate((array3,array4),axis=1) # Horizontal Combining"
      ]
    },
    {
      "cell_type": "markdown",
      "metadata": {},
      "source": [
        "## Convert and Copy Array"
      ]
    },
    {
      "cell_type": "code",
      "execution_count": 56,
      "metadata": {},
      "outputs": [],
      "source": [
        "# Convert\n",
        "\n",
        "liste = [1,2,3,4]   # list\n",
        "\n",
        "array = np.array(liste) # np.array\n",
        "\n",
        "liste2 = list(array)\n",
        "\n",
        "a = np.array([1,2,3])\n",
        "\n",
        "# Copy Array: These operations are incorrect. Because when you change the contents of one array, the other arrays will be affected.\n",
        "b = a \n",
        "b[0] = 5\n",
        "c = a \n",
        "\n",
        "# Copy Array: These operations are correct. \n",
        "d =  np.array([1,2,3])\n",
        "e = d.copy()\n",
        "f = d.copy()"
      ]
    },
    {
      "cell_type": "markdown",
      "metadata": {},
      "source": [
        "# Class"
      ]
    },
    {
      "cell_type": "code",
      "execution_count": 57,
      "metadata": {},
      "outputs": [],
      "source": [
        "class Book:\n",
        "    def __init__(self, title, price, keywords):\n",
        "        self.title = title; self.price = price; self.keywords = set(keywords)\n",
        "\n",
        "    def __lt__(self, rhs):\n",
        "        if self.price != rhs.price: return self.price < rhs.price\n",
        "        else: return self.title < rhs.title\n",
        "\n",
        "    def __str__(self):\n",
        "        return self.title + ' ($' + str(self.price) + ')'\n",
        "\n",
        "    def update_price(self, new_price):\n",
        "        self.price = new_price\n",
        "\n",
        "    def get_common_keywords(self, other):\n",
        "        return self.keywords & other.keywords"
      ]
    },
    {
      "cell_type": "code",
      "execution_count": 58,
      "metadata": {
        "tags": []
      },
      "outputs": [
        {
          "output_type": "stream",
          "name": "stdout",
          "text": "{'maths'}\nPython ($199)\nPhysics ($99) , Calculus ($199) , Python ($199)\n"
        }
      ],
      "source": [
        "b1 = Book('Python', 99, ['code','computer']) # using __init__\n",
        "b2 = Book('Calculus', 199, ['maths'])\n",
        "b3 = Book('Physics', 99, ['science','maths'])\n",
        "b1.update_price(199)\n"
      ]
    },
    {
      "cell_type": "code",
      "execution_count": 59,
      "metadata": {
        "tags": []
      },
      "outputs": [
        {
          "output_type": "stream",
          "name": "stdout",
          "text": "{'maths'}\n"
        }
      ],
      "source": [
        "print(Book.get_common_keywords(b2,b3)) # {'maths'}"
      ]
    },
    {
      "cell_type": "code",
      "execution_count": 60,
      "metadata": {
        "tags": []
      },
      "outputs": [
        {
          "output_type": "stream",
          "name": "stdout",
          "text": "Python ($199)\n"
        }
      ],
      "source": [
        "if b3 < b2: print(b1) # using __lt__ & __str__"
      ]
    },
    {
      "cell_type": "code",
      "execution_count": 63,
      "metadata": {
        "tags": []
      },
      "outputs": [
        {
          "output_type": "stream",
          "name": "stdout",
          "text": "[<__main__.Book object at 0x00000236E8281E48>, <__main__.Book object at 0x00000236E8281D08>, <__main__.Book object at 0x00000236E8281F48>]\n"
        }
      ],
      "source": [
        "books = [b1,b2,b3]\n",
        "print(books)"
      ]
    },
    {
      "cell_type": "code",
      "execution_count": 64,
      "metadata": {},
      "outputs": [],
      "source": [
        "books.sort() # using __lt__"
      ]
    },
    {
      "cell_type": "code",
      "execution_count": 65,
      "metadata": {
        "tags": []
      },
      "outputs": [
        {
          "output_type": "stream",
          "name": "stdout",
          "text": "Physics ($99) , Calculus ($199) , Python ($199)\n"
        }
      ],
      "source": [
        "print(books[0],',',books[1],',',books[2]) # using __str__\n",
        "# 'Physics ($99) , Calculus ($199) , Python ($199)"
      ]
    },
    {
      "cell_type": "code",
      "execution_count": null,
      "metadata": {},
      "outputs": [],
      "source": []
    }
  ]
}