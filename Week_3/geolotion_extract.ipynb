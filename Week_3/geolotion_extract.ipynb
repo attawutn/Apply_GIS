{
 "metadata": {
  "language_info": {
   "codemirror_mode": {
    "name": "ipython",
    "version": 3
   },
   "file_extension": ".py",
   "mimetype": "text/x-python",
   "name": "python",
   "nbconvert_exporter": "python",
   "pygments_lexer": "ipython3",
   "version": "3.7.8-final"
  },
  "orig_nbformat": 2,
  "kernelspec": {
   "name": "python3",
   "display_name": "Python 3"
  }
 },
 "nbformat": 4,
 "nbformat_minor": 2,
 "cells": [
  {
   "cell_type": "code",
   "execution_count": 3,
   "metadata": {
    "tags": []
   },
   "outputs": [
    {
     "output_type": "stream",
     "name": "stdout",
     "text": "Requirement already satisfied: geopandas in c:\\users\\attawut\\anaconda3\\lib\\site-packages (0.8.1)\nRequirement already satisfied: pandas>=0.23.0 in c:\\users\\attawut\\anaconda3\\lib\\site-packages (from geopandas) (1.1.0)\nRequirement already satisfied: pyproj>=2.2.0 in c:\\users\\attawut\\anaconda3\\lib\\site-packages (from geopandas) (2.6.1.post1)\nRequirement already satisfied: shapely in c:\\users\\attawut\\anaconda3\\lib\\site-packages (from geopandas) (1.7.0)\nRequirement already satisfied: fiona in c:\\users\\attawut\\anaconda3\\lib\\site-packages (from geopandas) (1.8.13)\nRequirement already satisfied: pytz>=2017.2 in c:\\users\\attawut\\anaconda3\\lib\\site-packages (from pandas>=0.23.0->geopandas) (2020.1)\nRequirement already satisfied: python-dateutil>=2.7.3 in c:\\users\\attawut\\anaconda3\\lib\\site-packages (from pandas>=0.23.0->geopandas) (2.8.1)\nRequirement already satisfied: numpy>=1.15.4 in c:\\users\\attawut\\anaconda3\\lib\\site-packages (from pandas>=0.23.0->geopandas) (1.19.1)\nRequirement already satisfied: attrs>=17 in c:\\users\\attawut\\anaconda3\\lib\\site-packages (from fiona->geopandas) (19.3.0)\nRequirement already satisfied: click<8,>=4.0 in c:\\users\\attawut\\anaconda3\\lib\\site-packages (from fiona->geopandas) (7.1.2)\nRequirement already satisfied: cligj>=0.5 in c:\\users\\attawut\\anaconda3\\lib\\site-packages (from fiona->geopandas) (0.5.0)\nRequirement already satisfied: click-plugins>=1.0 in c:\\users\\attawut\\anaconda3\\lib\\site-packages (from fiona->geopandas) (1.1.1)\nRequirement already satisfied: six>=1.7 in c:\\users\\attawut\\anaconda3\\lib\\site-packages (from fiona->geopandas) (1.15.0)\nRequirement already satisfied: munch in c:\\users\\attawut\\anaconda3\\lib\\site-packages (from fiona->geopandas) (2.5.0)\nRequirement already satisfied: GeoText in c:\\users\\attawut\\anaconda3\\lib\\site-packages (0.4.0)\nCollecting geopy\n  Downloading geopy-2.0.0-py3-none-any.whl (111 kB)\nCollecting geographiclib<2,>=1.49\n  Downloading geographiclib-1.50-py3-none-any.whl (38 kB)\nInstalling collected packages: geographiclib, geopy\nSuccessfully installed geographiclib-1.50 geopy-2.0.0\n"
    }
   ],
   "source": [
    "!pip install geopandas\n",
    "!pip install GeoText\n",
    "!pip install geopy"
   ]
  },
  {
   "cell_type": "code",
   "execution_count": 19,
   "metadata": {},
   "outputs": [],
   "source": [
    "import matplotlib as plt\n",
    "%matplotlib inline\n",
    "import pandas as pd\n",
    "import matplotlib.patches as mpatches\n",
    "import plotly.express as px\n",
    "from geotext import GeoText\n",
    "from geopy.geocoders import Nominatim\n",
    "from geopy.exc import GeocoderTimedOut\n",
    "import requests\n",
    "from bs4 import BeautifulSoup\n",
    "import os\n",
    "import re\n",
    "from functools import reduce"
   ]
  },
  {
   "cell_type": "code",
   "execution_count": 5,
   "metadata": {},
   "outputs": [],
   "source": [
    "x = '2020-03-04 Coronavirus Tweets.CSV'\n",
    "y = 'geolocation_test.csv'"
   ]
  },
  {
   "cell_type": "code",
   "execution_count": 6,
   "metadata": {},
   "outputs": [],
   "source": [
    "df2 = pd.read_csv(x,encoding='utf-8')\n",
    "df2_text = df2[[\"text\"]]\n",
    "df2_text.to_string()\n",
    "df2_text1 = df2_text.reset_index(drop=True)\n",
    "df2_text1['geotext'] = df2_text1[\"text\"].apply(lambda text: GeoText(text))"
   ]
  },
  {
   "cell_type": "code",
   "execution_count": 7,
   "metadata": {},
   "outputs": [],
   "source": [
    "a = []\n",
    "for i in range(0,len(df2_text1)):a  += (df2_text1['geotext'][i].cities)\n",
    "city_mentions = pd.DataFrame(a, columns=['city'])"
   ]
  },
  {
   "cell_type": "code",
   "execution_count": 8,
   "metadata": {},
   "outputs": [
    {
     "output_type": "execute_result",
     "data": {
      "text/plain": "           city\n0     Hyderabad\n1         Wuhan\n2         Wuhan\n3        Mumbai\n4      Brussels\n...         ...\n1285    Florida\n1286      March\n1287  Vancouver\n1288    Ontario\n1289    Ontario\n\n[1290 rows x 1 columns]",
      "text/html": "<div>\n<style scoped>\n    .dataframe tbody tr th:only-of-type {\n        vertical-align: middle;\n    }\n\n    .dataframe tbody tr th {\n        vertical-align: top;\n    }\n\n    .dataframe thead th {\n        text-align: right;\n    }\n</style>\n<table border=\"1\" class=\"dataframe\">\n  <thead>\n    <tr style=\"text-align: right;\">\n      <th></th>\n      <th>city</th>\n    </tr>\n  </thead>\n  <tbody>\n    <tr>\n      <th>0</th>\n      <td>Hyderabad</td>\n    </tr>\n    <tr>\n      <th>1</th>\n      <td>Wuhan</td>\n    </tr>\n    <tr>\n      <th>2</th>\n      <td>Wuhan</td>\n    </tr>\n    <tr>\n      <th>3</th>\n      <td>Mumbai</td>\n    </tr>\n    <tr>\n      <th>4</th>\n      <td>Brussels</td>\n    </tr>\n    <tr>\n      <th>...</th>\n      <td>...</td>\n    </tr>\n    <tr>\n      <th>1285</th>\n      <td>Florida</td>\n    </tr>\n    <tr>\n      <th>1286</th>\n      <td>March</td>\n    </tr>\n    <tr>\n      <th>1287</th>\n      <td>Vancouver</td>\n    </tr>\n    <tr>\n      <th>1288</th>\n      <td>Ontario</td>\n    </tr>\n    <tr>\n      <th>1289</th>\n      <td>Ontario</td>\n    </tr>\n  </tbody>\n</table>\n<p>1290 rows × 1 columns</p>\n</div>"
     },
     "metadata": {},
     "execution_count": 8
    }
   ],
   "source": [
    "city_mentions"
   ]
  },
  {
   "cell_type": "code",
   "execution_count": 10,
   "metadata": {},
   "outputs": [
    {
     "output_type": "execute_result",
     "data": {
      "text/plain": "Corona       245\nWuhan        122\nMarch         60\nObama         59\nSeattle       38\n            ... \nAKi            1\nDetroit        1\nGary           1\nMillcreek      1\nWaterloo       1\nName: city, Length: 281, dtype: int64"
     },
     "metadata": {},
     "execution_count": 10
    }
   ],
   "source": [
    "rank = city_mentions['city'].value_counts(ascending = False)\n",
    "rank"
   ]
  },
  {
   "cell_type": "code",
   "execution_count": 11,
   "metadata": {},
   "outputs": [],
   "source": [
    "cities_to_remove = ['Corona', 'March', 'Of','Most','Obama','Un','Una','Bo','Best','Ho','Nice','University','Man','Police','Como']"
   ]
  },
  {
   "cell_type": "code",
   "execution_count": 13,
   "metadata": {},
   "outputs": [
    {
     "output_type": "execute_result",
     "data": {
      "text/plain": "            city\n0      Hyderabad\n1          Wuhan\n2          Wuhan\n3         Mumbai\n4       Brussels\n...          ...\n1284  Barrington\n1285     Florida\n1287   Vancouver\n1288     Ontario\n1289     Ontario\n\n[849 rows x 1 columns]",
      "text/html": "<div>\n<style scoped>\n    .dataframe tbody tr th:only-of-type {\n        vertical-align: middle;\n    }\n\n    .dataframe tbody tr th {\n        vertical-align: top;\n    }\n\n    .dataframe thead th {\n        text-align: right;\n    }\n</style>\n<table border=\"1\" class=\"dataframe\">\n  <thead>\n    <tr style=\"text-align: right;\">\n      <th></th>\n      <th>city</th>\n    </tr>\n  </thead>\n  <tbody>\n    <tr>\n      <th>0</th>\n      <td>Hyderabad</td>\n    </tr>\n    <tr>\n      <th>1</th>\n      <td>Wuhan</td>\n    </tr>\n    <tr>\n      <th>2</th>\n      <td>Wuhan</td>\n    </tr>\n    <tr>\n      <th>3</th>\n      <td>Mumbai</td>\n    </tr>\n    <tr>\n      <th>4</th>\n      <td>Brussels</td>\n    </tr>\n    <tr>\n      <th>...</th>\n      <td>...</td>\n    </tr>\n    <tr>\n      <th>1284</th>\n      <td>Barrington</td>\n    </tr>\n    <tr>\n      <th>1285</th>\n      <td>Florida</td>\n    </tr>\n    <tr>\n      <th>1287</th>\n      <td>Vancouver</td>\n    </tr>\n    <tr>\n      <th>1288</th>\n      <td>Ontario</td>\n    </tr>\n    <tr>\n      <th>1289</th>\n      <td>Ontario</td>\n    </tr>\n  </tbody>\n</table>\n<p>849 rows × 1 columns</p>\n</div>"
     },
     "metadata": {},
     "execution_count": 13
    }
   ],
   "source": [
    "city_mentions = city_mentions[~city_mentions['city'].isin(cities_to_remove)]\n",
    "city_mentions"
   ]
  },
  {
   "cell_type": "code",
   "execution_count": 15,
   "metadata": {},
   "outputs": [
    {
     "output_type": "execute_result",
     "data": {
      "text/plain": "Wuhan        122\nSeattle       38\nTokyo         29\nDelhi         28\nLondon        24\n            ... \nAKi            1\nGary           1\nMillcreek      1\nLancaster      1\nWaterloo       1\nName: city, Length: 267, dtype: int64"
     },
     "metadata": {},
     "execution_count": 15
    }
   ],
   "source": [
    "rank = city_mentions['city'].value_counts()\n",
    "rank"
   ]
  },
  {
   "cell_type": "code",
   "execution_count": 17,
   "metadata": {},
   "outputs": [
    {
     "output_type": "execute_result",
     "data": {
      "text/plain": "           city\nWuhan       122\nSeattle      38\nTokyo        29\nDelhi        28\nLondon       24\n...         ...\nAKi           1\nGary          1\nMillcreek     1\nLancaster     1\nWaterloo      1\n\n[267 rows x 1 columns]",
      "text/html": "<div>\n<style scoped>\n    .dataframe tbody tr th:only-of-type {\n        vertical-align: middle;\n    }\n\n    .dataframe tbody tr th {\n        vertical-align: top;\n    }\n\n    .dataframe thead th {\n        text-align: right;\n    }\n</style>\n<table border=\"1\" class=\"dataframe\">\n  <thead>\n    <tr style=\"text-align: right;\">\n      <th></th>\n      <th>city</th>\n    </tr>\n  </thead>\n  <tbody>\n    <tr>\n      <th>Wuhan</th>\n      <td>122</td>\n    </tr>\n    <tr>\n      <th>Seattle</th>\n      <td>38</td>\n    </tr>\n    <tr>\n      <th>Tokyo</th>\n      <td>29</td>\n    </tr>\n    <tr>\n      <th>Delhi</th>\n      <td>28</td>\n    </tr>\n    <tr>\n      <th>London</th>\n      <td>24</td>\n    </tr>\n    <tr>\n      <th>...</th>\n      <td>...</td>\n    </tr>\n    <tr>\n      <th>AKi</th>\n      <td>1</td>\n    </tr>\n    <tr>\n      <th>Gary</th>\n      <td>1</td>\n    </tr>\n    <tr>\n      <th>Millcreek</th>\n      <td>1</td>\n    </tr>\n    <tr>\n      <th>Lancaster</th>\n      <td>1</td>\n    </tr>\n    <tr>\n      <th>Waterloo</th>\n      <td>1</td>\n    </tr>\n  </tbody>\n</table>\n<p>267 rows × 1 columns</p>\n</div>"
     },
     "metadata": {},
     "execution_count": 17
    }
   ],
   "source": [
    "rank = pd.DataFrame(rank)\n",
    "rank"
   ]
  },
  {
   "cell_type": "code",
   "execution_count": null,
   "metadata": {},
   "outputs": [],
   "source": [
    "rank.to_csv(y)"
   ]
  },
  {
   "cell_type": "markdown",
   "metadata": {},
   "source": [
    "# Geolocation"
   ]
  },
  {
   "cell_type": "code",
   "execution_count": 21,
   "metadata": {},
   "outputs": [
    {
     "output_type": "execute_result",
     "data": {
      "text/plain": "    Unnamed: 0  city\n0        Wuhan   122\n1      Seattle    38\n2        Tokyo    29\n3        Delhi    28\n4       London    24\n..         ...   ...\n262        AKi     1\n263       Gary     1\n264  Millcreek     1\n265  Lancaster     1\n266   Waterloo     1\n\n[267 rows x 2 columns]",
      "text/html": "<div>\n<style scoped>\n    .dataframe tbody tr th:only-of-type {\n        vertical-align: middle;\n    }\n\n    .dataframe tbody tr th {\n        vertical-align: top;\n    }\n\n    .dataframe thead th {\n        text-align: right;\n    }\n</style>\n<table border=\"1\" class=\"dataframe\">\n  <thead>\n    <tr style=\"text-align: right;\">\n      <th></th>\n      <th>Unnamed: 0</th>\n      <th>city</th>\n    </tr>\n  </thead>\n  <tbody>\n    <tr>\n      <th>0</th>\n      <td>Wuhan</td>\n      <td>122</td>\n    </tr>\n    <tr>\n      <th>1</th>\n      <td>Seattle</td>\n      <td>38</td>\n    </tr>\n    <tr>\n      <th>2</th>\n      <td>Tokyo</td>\n      <td>29</td>\n    </tr>\n    <tr>\n      <th>3</th>\n      <td>Delhi</td>\n      <td>28</td>\n    </tr>\n    <tr>\n      <th>4</th>\n      <td>London</td>\n      <td>24</td>\n    </tr>\n    <tr>\n      <th>...</th>\n      <td>...</td>\n      <td>...</td>\n    </tr>\n    <tr>\n      <th>262</th>\n      <td>AKi</td>\n      <td>1</td>\n    </tr>\n    <tr>\n      <th>263</th>\n      <td>Gary</td>\n      <td>1</td>\n    </tr>\n    <tr>\n      <th>264</th>\n      <td>Millcreek</td>\n      <td>1</td>\n    </tr>\n    <tr>\n      <th>265</th>\n      <td>Lancaster</td>\n      <td>1</td>\n    </tr>\n    <tr>\n      <th>266</th>\n      <td>Waterloo</td>\n      <td>1</td>\n    </tr>\n  </tbody>\n</table>\n<p>267 rows × 2 columns</p>\n</div>"
     },
     "metadata": {},
     "execution_count": 21
    }
   ],
   "source": [
    "df = pd.read_csv(\"geolocation_test.csv\",encoding='utf-8')\n",
    "df"
   ]
  },
  {
   "cell_type": "code",
   "execution_count": 22,
   "metadata": {},
   "outputs": [],
   "source": [
    "df.columns = ['city','count']"
   ]
  },
  {
   "cell_type": "code",
   "execution_count": 23,
   "metadata": {},
   "outputs": [],
   "source": [
    "from geopy.geocoders import Nominatim\n",
    "from geopy.exc import GeocoderTimedOut"
   ]
  },
  {
   "cell_type": "code",
   "execution_count": 24,
   "metadata": {},
   "outputs": [],
   "source": [
    "#use geopy's geolocator to find information on all the cities in the list\n",
    "chrome_user_agent = \"Mozilla/5.0 (Windows NT 10.0; Win64; x64) AppleWebKit/537.36 (KHTML, like Gecko) Chrome/81.0.4044.92 Safari/537.36\"\n",
    "\n",
    "geolocator = Nominatim(timeout=10,user_agent=chrome_user_agent)\n",
    "\n",
    "lat_lon = []\n",
    "for i in df.city: \n",
    "    try:\n",
    "        location = geolocator.geocode(i)\n",
    "        if location:\n",
    "            lat_lon.append(location)\n",
    "    except GeocoderTimedOut as e:\n",
    "        print(\"Error: geocode failed on input %s with message %s\"%\n",
    "             (i, e))"
   ]
  },
  {
   "cell_type": "code",
   "execution_count": 25,
   "metadata": {},
   "outputs": [],
   "source": [
    "#create a df for raw output from the geolocator, maybe put cleaning directly after this; or append to original df\n",
    "city_data = pd.DataFrame(lat_lon, columns=['raw_data','raw_data2'])\n",
    "\n",
    "#re-order the cols\n",
    "city_data = city_data[['raw_data2', 'raw_data']]\n",
    "\n",
    "#get the city names from raw_data\n",
    "city_data['city'] = city_data['raw_data'].str.split(',').str[0]"
   ]
  },
  {
   "cell_type": "code",
   "execution_count": 26,
   "metadata": {},
   "outputs": [],
   "source": [
    "#change the coordinates to a string\n",
    "city_data['raw_data2'] = city_data['raw_data2'].astype(str)\n",
    "\n",
    "#split the coordinates using the comma as the delimiter\n",
    "city_data[['lat','lon']] = city_data.raw_data2.str.split(\",\",expand=True,)\n",
    "\n",
    "#remove the parentheses\n",
    "city_data['lat'] = city_data['lat'].map(lambda x:x.lstrip('()'))\n",
    "city_data['lon'] = city_data['lon'].map(lambda x:x.rstrip('()'))\n",
    "\n",
    "#convert the lat and lon columns back to floats\n",
    "city_data = city_data.astype({'lat': 'float64', 'lon': 'float64'})\n",
    "\n",
    "#drop the raw data columns\n",
    "city_data.drop(['raw_data2', 'raw_data'], axis = 1, inplace=True)"
   ]
  },
  {
   "cell_type": "code",
   "execution_count": 27,
   "metadata": {},
   "outputs": [
    {
     "output_type": "execute_result",
     "data": {
      "text/plain": "                 city        lat         lon\n0                 武汉市  30.595105  114.299935\n1             Seattle  47.603832 -122.330062\n2                 東京都  35.682839  139.759455\n3               Delhi  28.651718   77.221939\n4              London  51.507322   -0.127647\n..                ...        ...         ...\n262               安芸国  34.429010  132.485385\n263              Gary  41.602129  -87.337137\n264         Millcreek  40.699891 -111.854093\n265  Lancaster County  40.080670  -76.241128\n266          Waterloo  42.497969  -92.332964\n\n[267 rows x 3 columns]",
      "text/html": "<div>\n<style scoped>\n    .dataframe tbody tr th:only-of-type {\n        vertical-align: middle;\n    }\n\n    .dataframe tbody tr th {\n        vertical-align: top;\n    }\n\n    .dataframe thead th {\n        text-align: right;\n    }\n</style>\n<table border=\"1\" class=\"dataframe\">\n  <thead>\n    <tr style=\"text-align: right;\">\n      <th></th>\n      <th>city</th>\n      <th>lat</th>\n      <th>lon</th>\n    </tr>\n  </thead>\n  <tbody>\n    <tr>\n      <th>0</th>\n      <td>武汉市</td>\n      <td>30.595105</td>\n      <td>114.299935</td>\n    </tr>\n    <tr>\n      <th>1</th>\n      <td>Seattle</td>\n      <td>47.603832</td>\n      <td>-122.330062</td>\n    </tr>\n    <tr>\n      <th>2</th>\n      <td>東京都</td>\n      <td>35.682839</td>\n      <td>139.759455</td>\n    </tr>\n    <tr>\n      <th>3</th>\n      <td>Delhi</td>\n      <td>28.651718</td>\n      <td>77.221939</td>\n    </tr>\n    <tr>\n      <th>4</th>\n      <td>London</td>\n      <td>51.507322</td>\n      <td>-0.127647</td>\n    </tr>\n    <tr>\n      <th>...</th>\n      <td>...</td>\n      <td>...</td>\n      <td>...</td>\n    </tr>\n    <tr>\n      <th>262</th>\n      <td>安芸国</td>\n      <td>34.429010</td>\n      <td>132.485385</td>\n    </tr>\n    <tr>\n      <th>263</th>\n      <td>Gary</td>\n      <td>41.602129</td>\n      <td>-87.337137</td>\n    </tr>\n    <tr>\n      <th>264</th>\n      <td>Millcreek</td>\n      <td>40.699891</td>\n      <td>-111.854093</td>\n    </tr>\n    <tr>\n      <th>265</th>\n      <td>Lancaster County</td>\n      <td>40.080670</td>\n      <td>-76.241128</td>\n    </tr>\n    <tr>\n      <th>266</th>\n      <td>Waterloo</td>\n      <td>42.497969</td>\n      <td>-92.332964</td>\n    </tr>\n  </tbody>\n</table>\n<p>267 rows × 3 columns</p>\n</div>"
     },
     "metadata": {},
     "execution_count": 27
    }
   ],
   "source": [
    "city_data"
   ]
  },
  {
   "cell_type": "code",
   "execution_count": 29,
   "metadata": {},
   "outputs": [],
   "source": [
    "#merge the two dataframes\n",
    "merged = pd.merge(df, city_data, left_index=True, right_index=True)"
   ]
  },
  {
   "cell_type": "code",
   "execution_count": 30,
   "metadata": {},
   "outputs": [
    {
     "output_type": "execute_result",
     "data": {
      "text/plain": "        city_x  count            city_y        lat         lon\n0        Wuhan    122               武汉市  30.595105  114.299935\n1      Seattle     38           Seattle  47.603832 -122.330062\n2        Tokyo     29               東京都  35.682839  139.759455\n3        Delhi     28             Delhi  28.651718   77.221939\n4       London     24            London  51.507322   -0.127647\n..         ...    ...               ...        ...         ...\n262        AKi      1               安芸国  34.429010  132.485385\n263       Gary      1              Gary  41.602129  -87.337137\n264  Millcreek      1         Millcreek  40.699891 -111.854093\n265  Lancaster      1  Lancaster County  40.080670  -76.241128\n266   Waterloo      1          Waterloo  42.497969  -92.332964\n\n[267 rows x 5 columns]",
      "text/html": "<div>\n<style scoped>\n    .dataframe tbody tr th:only-of-type {\n        vertical-align: middle;\n    }\n\n    .dataframe tbody tr th {\n        vertical-align: top;\n    }\n\n    .dataframe thead th {\n        text-align: right;\n    }\n</style>\n<table border=\"1\" class=\"dataframe\">\n  <thead>\n    <tr style=\"text-align: right;\">\n      <th></th>\n      <th>city_x</th>\n      <th>count</th>\n      <th>city_y</th>\n      <th>lat</th>\n      <th>lon</th>\n    </tr>\n  </thead>\n  <tbody>\n    <tr>\n      <th>0</th>\n      <td>Wuhan</td>\n      <td>122</td>\n      <td>武汉市</td>\n      <td>30.595105</td>\n      <td>114.299935</td>\n    </tr>\n    <tr>\n      <th>1</th>\n      <td>Seattle</td>\n      <td>38</td>\n      <td>Seattle</td>\n      <td>47.603832</td>\n      <td>-122.330062</td>\n    </tr>\n    <tr>\n      <th>2</th>\n      <td>Tokyo</td>\n      <td>29</td>\n      <td>東京都</td>\n      <td>35.682839</td>\n      <td>139.759455</td>\n    </tr>\n    <tr>\n      <th>3</th>\n      <td>Delhi</td>\n      <td>28</td>\n      <td>Delhi</td>\n      <td>28.651718</td>\n      <td>77.221939</td>\n    </tr>\n    <tr>\n      <th>4</th>\n      <td>London</td>\n      <td>24</td>\n      <td>London</td>\n      <td>51.507322</td>\n      <td>-0.127647</td>\n    </tr>\n    <tr>\n      <th>...</th>\n      <td>...</td>\n      <td>...</td>\n      <td>...</td>\n      <td>...</td>\n      <td>...</td>\n    </tr>\n    <tr>\n      <th>262</th>\n      <td>AKi</td>\n      <td>1</td>\n      <td>安芸国</td>\n      <td>34.429010</td>\n      <td>132.485385</td>\n    </tr>\n    <tr>\n      <th>263</th>\n      <td>Gary</td>\n      <td>1</td>\n      <td>Gary</td>\n      <td>41.602129</td>\n      <td>-87.337137</td>\n    </tr>\n    <tr>\n      <th>264</th>\n      <td>Millcreek</td>\n      <td>1</td>\n      <td>Millcreek</td>\n      <td>40.699891</td>\n      <td>-111.854093</td>\n    </tr>\n    <tr>\n      <th>265</th>\n      <td>Lancaster</td>\n      <td>1</td>\n      <td>Lancaster County</td>\n      <td>40.080670</td>\n      <td>-76.241128</td>\n    </tr>\n    <tr>\n      <th>266</th>\n      <td>Waterloo</td>\n      <td>1</td>\n      <td>Waterloo</td>\n      <td>42.497969</td>\n      <td>-92.332964</td>\n    </tr>\n  </tbody>\n</table>\n<p>267 rows × 5 columns</p>\n</div>"
     },
     "metadata": {},
     "execution_count": 30
    }
   ],
   "source": [
    "merged"
   ]
  },
  {
   "cell_type": "code",
   "execution_count": 31,
   "metadata": {},
   "outputs": [],
   "source": [
    "merged.to_csv(\"geolocation_test.csv\")"
   ]
  }
 ]
}